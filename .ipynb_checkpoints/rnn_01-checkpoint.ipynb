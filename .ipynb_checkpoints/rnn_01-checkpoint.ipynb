{
 "cells": [
  {
   "cell_type": "markdown",
   "metadata": {},
   "source": [
    "## RNN"
   ]
  },
  {
   "cell_type": "markdown",
   "metadata": {},
   "source": [
    "### 로이터 뉴스 카테고리 분류하기"
   ]
  },
  {
   "cell_type": "code",
   "execution_count": 3,
   "metadata": {},
   "outputs": [],
   "source": [
    "# -*- coding: utf-8 -*-\n",
    "# 코드 내부에 한글을 사용가능 하게 해주는 부분입니다.\n",
    "\n",
    "# 로이터 뉴스 데이터셋 불러오기\n",
    "from keras.datasets import reuters\n",
    "from keras.models import Sequential\n",
    "from keras.layers import Dense, LSTM, Embedding\n",
    "from keras.preprocessing import sequence\n",
    "from keras.utils import np_utils\n",
    "\n",
    "import numpy\n",
    "import tensorflow as tf\n",
    "import matplotlib.pyplot as plt"
   ]
  },
  {
   "cell_type": "code",
   "execution_count": 4,
   "metadata": {},
   "outputs": [],
   "source": [
    "# seed 값 설정\n",
    "seed = 0\n",
    "numpy.random.seed(seed)\n",
    "tf.set_random_seed(seed)"
   ]
  },
  {
   "cell_type": "code",
   "execution_count": 5,
   "metadata": {},
   "outputs": [],
   "source": [
    "# 불러온 데이터를 학습셋, 테스트셋으로 나누기\n",
    "(X_train, Y_train), (X_test, Y_test) = reuters.load_data(num_words=1000, test_split=0.2)"
   ]
  },
  {
   "cell_type": "code",
   "execution_count": 6,
   "metadata": {},
   "outputs": [
    {
     "name": "stdout",
     "output_type": "stream",
     "text": [
      "46 카테고리\n",
      "8982 학습용 뉴스 기사\n",
      "2246 테스트용 뉴스 기사\n",
      "[1, 2, 2, 8, 43, 10, 447, 5, 25, 207, 270, 5, 2, 111, 16, 369, 186, 90, 67, 7, 89, 5, 19, 102, 6, 19, 124, 15, 90, 67, 84, 22, 482, 26, 7, 48, 4, 49, 8, 864, 39, 209, 154, 6, 151, 6, 83, 11, 15, 22, 155, 11, 15, 7, 48, 9, 2, 2, 504, 6, 258, 6, 272, 11, 15, 22, 134, 44, 11, 15, 16, 8, 197, 2, 90, 67, 52, 29, 209, 30, 32, 132, 6, 109, 15, 17, 12]\n"
     ]
    }
   ],
   "source": [
    "# 데이터 확인하기\n",
    "category = numpy.max(Y_train) + 1\n",
    "print(category, '카테고리')\n",
    "print(len(X_train), '학습용 뉴스 기사')\n",
    "print(len(X_test), '테스트용 뉴스 기사')\n",
    "print(X_train[0])"
   ]
  },
  {
   "cell_type": "code",
   "execution_count": 7,
   "metadata": {},
   "outputs": [],
   "source": [
    "# 데이터 전처리\n",
    "x_train = sequence.pad_sequences(X_train, maxlen=100)\n",
    "x_test = sequence.pad_sequences(X_test, maxlen=100)\n",
    "y_train = np_utils.to_categorical(Y_train)\n",
    "y_test = np_utils.to_categorical(Y_test)"
   ]
  },
  {
   "cell_type": "code",
   "execution_count": 8,
   "metadata": {},
   "outputs": [
    {
     "name": "stderr",
     "output_type": "stream",
     "text": [
      "WARNING: Logging before flag parsing goes to stderr.\n",
      "W0822 10:04:07.426121  2064 deprecation_wrapper.py:119] From C:\\ProgramData\\Anaconda3\\envs\\new_ml\\lib\\site-packages\\keras\\backend\\tensorflow_backend.py:74: The name tf.get_default_graph is deprecated. Please use tf.compat.v1.get_default_graph instead.\n",
      "\n",
      "W0822 10:04:07.441721  2064 deprecation_wrapper.py:119] From C:\\ProgramData\\Anaconda3\\envs\\new_ml\\lib\\site-packages\\keras\\backend\\tensorflow_backend.py:517: The name tf.placeholder is deprecated. Please use tf.compat.v1.placeholder instead.\n",
      "\n",
      "W0822 10:04:07.453722  2064 deprecation_wrapper.py:119] From C:\\ProgramData\\Anaconda3\\envs\\new_ml\\lib\\site-packages\\keras\\backend\\tensorflow_backend.py:4138: The name tf.random_uniform is deprecated. Please use tf.random.uniform instead.\n",
      "\n",
      "W0822 10:04:07.649733  2064 deprecation_wrapper.py:119] From C:\\ProgramData\\Anaconda3\\envs\\new_ml\\lib\\site-packages\\keras\\optimizers.py:790: The name tf.train.Optimizer is deprecated. Please use tf.compat.v1.train.Optimizer instead.\n",
      "\n",
      "W0822 10:04:07.666734  2064 deprecation_wrapper.py:119] From C:\\ProgramData\\Anaconda3\\envs\\new_ml\\lib\\site-packages\\keras\\backend\\tensorflow_backend.py:3295: The name tf.log is deprecated. Please use tf.math.log instead.\n",
      "\n"
     ]
    }
   ],
   "source": [
    "# 모델의 설정\n",
    "model = Sequential()\n",
    "model.add(Embedding(1000, 100))\n",
    "model.add(LSTM(100, activation='tanh'))\n",
    "model.add(Dense(46, activation='softmax'))\n",
    "\n",
    "# 모델의 컴파일\n",
    "model.compile(loss='categorical_crossentropy',\n",
    "            optimizer='adam',\n",
    "            metrics=['accuracy'])"
   ]
  },
  {
   "cell_type": "code",
   "execution_count": 9,
   "metadata": {},
   "outputs": [
    {
     "name": "stderr",
     "output_type": "stream",
     "text": [
      "W0822 10:04:18.642719  2064 deprecation.py:323] From C:\\ProgramData\\Anaconda3\\envs\\new_ml\\lib\\site-packages\\tensorflow\\python\\ops\\math_grad.py:1250: add_dispatch_support.<locals>.wrapper (from tensorflow.python.ops.array_ops) is deprecated and will be removed in a future version.\n",
      "Instructions for updating:\n",
      "Use tf.where in 2.0, which has the same broadcast rule as np.where\n",
      "W0822 10:04:19.176736  2064 deprecation_wrapper.py:119] From C:\\ProgramData\\Anaconda3\\envs\\new_ml\\lib\\site-packages\\keras\\backend\\tensorflow_backend.py:986: The name tf.assign_add is deprecated. Please use tf.compat.v1.assign_add instead.\n",
      "\n"
     ]
    },
    {
     "name": "stdout",
     "output_type": "stream",
     "text": [
      "Train on 8982 samples, validate on 2246 samples\n",
      "Epoch 1/20\n",
      "8982/8982 [==============================] - 10s 1ms/step - loss: 2.6147 - acc: 0.3442 - val_loss: 2.4222 - val_acc: 0.3620\n",
      "Epoch 2/20\n",
      "8982/8982 [==============================] - 9s 1ms/step - loss: 2.3039 - acc: 0.3902 - val_loss: 2.0331 - val_acc: 0.5036\n",
      "Epoch 3/20\n",
      "8982/8982 [==============================] - 9s 1ms/step - loss: 1.8928 - acc: 0.5193 - val_loss: 1.7627 - val_acc: 0.5525\n",
      "Epoch 4/20\n",
      "8982/8982 [==============================] - 9s 1ms/step - loss: 1.6960 - acc: 0.5606 - val_loss: 1.6848 - val_acc: 0.5606\n",
      "Epoch 5/20\n",
      "8982/8982 [==============================] - 9s 999us/step - loss: 1.5909 - acc: 0.5955 - val_loss: 1.6855 - val_acc: 0.5748\n",
      "Epoch 6/20\n",
      "8982/8982 [==============================] - 9s 975us/step - loss: 1.4894 - acc: 0.6181 - val_loss: 1.5252 - val_acc: 0.6118\n",
      "Epoch 7/20\n",
      "8982/8982 [==============================] - 9s 986us/step - loss: 1.4123 - acc: 0.6396 - val_loss: 1.4975 - val_acc: 0.6198\n",
      "Epoch 8/20\n",
      "8982/8982 [==============================] - 9s 978us/step - loss: 1.3600 - acc: 0.6522 - val_loss: 1.4510 - val_acc: 0.6327\n",
      "Epoch 9/20\n",
      "8982/8982 [==============================] - 9s 979us/step - loss: 1.2558 - acc: 0.6799 - val_loss: 1.3795 - val_acc: 0.6545\n",
      "Epoch 10/20\n",
      "8982/8982 [==============================] - 9s 978us/step - loss: 1.1860 - acc: 0.6994 - val_loss: 1.3313 - val_acc: 0.6630\n",
      "Epoch 11/20\n",
      "8982/8982 [==============================] - 9s 978us/step - loss: 1.1161 - acc: 0.7183 - val_loss: 1.2830 - val_acc: 0.6785\n",
      "Epoch 12/20\n",
      "8982/8982 [==============================] - 9s 978us/step - loss: 1.0673 - acc: 0.7281 - val_loss: 1.2785 - val_acc: 0.6799\n",
      "Epoch 13/20\n",
      "8982/8982 [==============================] - 9s 982us/step - loss: 1.0109 - acc: 0.7476 - val_loss: 1.2636 - val_acc: 0.6857\n",
      "Epoch 14/20\n",
      "8982/8982 [==============================] - 9s 978us/step - loss: 0.9703 - acc: 0.7586 - val_loss: 1.2241 - val_acc: 0.6941\n",
      "Epoch 15/20\n",
      "8982/8982 [==============================] - 9s 980us/step - loss: 0.9205 - acc: 0.7702 - val_loss: 1.2119 - val_acc: 0.6981\n",
      "Epoch 16/20\n",
      "8982/8982 [==============================] - 9s 982us/step - loss: 0.8907 - acc: 0.7790 - val_loss: 1.1904 - val_acc: 0.7044\n",
      "Epoch 17/20\n",
      "8982/8982 [==============================] - 9s 980us/step - loss: 0.8335 - acc: 0.7897 - val_loss: 1.2141 - val_acc: 0.7066\n",
      "Epoch 18/20\n",
      "8982/8982 [==============================] - 9s 982us/step - loss: 0.8067 - acc: 0.7956 - val_loss: 1.1891 - val_acc: 0.7164\n",
      "Epoch 19/20\n",
      "8982/8982 [==============================] - 9s 984us/step - loss: 0.7780 - acc: 0.8051 - val_loss: 1.2176 - val_acc: 0.7017\n",
      "Epoch 20/20\n",
      "8982/8982 [==============================] - 9s 984us/step - loss: 0.7266 - acc: 0.8196 - val_loss: 1.2132 - val_acc: 0.7146\n"
     ]
    }
   ],
   "source": [
    "# 모델의 실행\n",
    "history = model.fit(x_train, y_train, batch_size=100, epochs=20, validation_data=(x_test, y_test))"
   ]
  },
  {
   "cell_type": "code",
   "execution_count": 10,
   "metadata": {},
   "outputs": [
    {
     "name": "stdout",
     "output_type": "stream",
     "text": [
      "2246/2246 [==============================] - 1s 318us/step\n",
      "\n",
      " Test Accuracy: 0.7146\n"
     ]
    }
   ],
   "source": [
    "# 테스트 정확도 출력\n",
    "print(\"\\n Test Accuracy: %.4f\" % (model.evaluate(x_test, y_test)[1]))"
   ]
  },
  {
   "cell_type": "code",
   "execution_count": 11,
   "metadata": {},
   "outputs": [],
   "source": [
    "# 테스트 셋의 오차\n",
    "y_vloss = history.history['val_loss']"
   ]
  },
  {
   "cell_type": "code",
   "execution_count": 12,
   "metadata": {},
   "outputs": [],
   "source": [
    "# 학습셋의 오차\n",
    "y_loss = history.history['loss']"
   ]
  },
  {
   "cell_type": "code",
   "execution_count": 18,
   "metadata": {},
   "outputs": [
    {
     "data": {
      "image/png": "[encoded data removed]",
      "text/plain": [
       "<Figure size 432x288 with 1 Axes>"
      ]
     },
     "metadata": {
      "needs_background": "light"
     },
     "output_type": "display_data"
    }
   ],
   "source": [
    "# 그래프로 표현\n",
    "x_len = numpy.arange(len(y_loss))\n",
    "plt.plot(x_len, y_vloss, marker='.', c=\"red\", label='Testset_loss')\n",
    "plt.plot(x_len, y_loss, marker='.', c=\"blue\", label='Trainset_loss')\n",
    "\n",
    "# 그래프에 그리드를 주고 레이블을 표시\n",
    "plt.legend(loc='upper right')\n",
    "plt.grid()\n",
    "plt.xlabel('epoch')\n",
    "plt.ylabel('loss')\n",
    "plt.show()"
   ]
  },
  {
   "cell_type": "code",
   "execution_count": null,
   "metadata": {},
   "outputs": [],
   "source": []
  }
 ],
 "metadata": {
  "kernelspec": {
   "display_name": "new_ML",
   "language": "python",
   "name": "new_ml"
  },
  "language_info": {
   "codemirror_mode": {
    "name": "ipython",
    "version": 3
   },
   "file_extension": ".py",
   "mimetype": "text/x-python",
   "name": "python",
   "nbconvert_exporter": "python",
   "pygments_lexer": "ipython3",
   "version": "3.6.9"
  }
 },
 "nbformat": 4,
 "nbformat_minor": 2
}
