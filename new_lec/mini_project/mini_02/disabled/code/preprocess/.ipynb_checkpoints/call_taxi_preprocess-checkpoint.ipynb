{
 "cells": [
  {
   "cell_type": "code",
   "execution_count": 1,
   "metadata": {},
   "outputs": [],
   "source": [
    "import os\n",
    "import math\n",
    "import pandas as pd\n",
    "import numpy as np\n",
    "from datetime import datetime, timedelta"
   ]
  },
  {
   "cell_type": "code",
   "execution_count": 2,
   "metadata": {},
   "outputs": [],
   "source": [
    "data_path = r\"D:\\workspace-Jwp\\python\\mini_pjt\\mini02\\taxi_data_raw_all.csv\""
   ]
  },
  {
   "cell_type": "code",
   "execution_count": 3,
   "metadata": {
    "scrolled": true
   },
   "outputs": [],
   "source": [
    "raw = pd.read_csv(data_path, encoding='euc-kr')"
   ]
  },
  {
   "cell_type": "markdown",
   "metadata": {},
   "source": [
    "### 시간데이터 리포매팅"
   ]
  },
  {
   "cell_type": "code",
   "execution_count": 23,
   "metadata": {},
   "outputs": [],
   "source": [
    "time1 = reform_time(raw, '예정일시')\n",
    "time2 = reform_time(raw, '배차일시')\n",
    "time3 = reform_time(raw, '승차일시')"
   ]
  },
  {
   "cell_type": "markdown",
   "metadata": {},
   "source": [
    "### 결측치 처리"
   ]
  },
  {
   "cell_type": "code",
   "execution_count": 24,
   "metadata": {},
   "outputs": [
    {
     "data": {
      "text/plain": [
       "'2018-01-01 00:04:00'"
      ]
     },
     "execution_count": 24,
     "metadata": {},
     "output_type": "execute_result"
    }
   ],
   "source": [
    "time1[1]"
   ]
  },
  {
   "cell_type": "code",
   "execution_count": 25,
   "metadata": {},
   "outputs": [],
   "source": [
    "time11 = []\n",
    "time22 = []\n",
    "time33 = []\n",
    "form_time = \"%Y-%m-%d %H:%M:%S\"\n",
    "form_time2 = \"%Y-%m-%d\"\n",
    "\n",
    "for i in range(len(time1)):\n",
    "    try:\n",
    "        time11.append(datetime.strptime(time1[i], form_time))\n",
    "    except:\n",
    "        time11.append(datetime.strptime(time1[i], form_time2))\n",
    "        \n",
    "for i in range(len(time2)):    \n",
    "    try:\n",
    "        time22.append(datetime.strptime(time2[i], form_time))\n",
    "    except:\n",
    "        time22.append(0)\n",
    "        \n",
    "for i in range(len(time3)):    \n",
    "    try:\n",
    "        time33.append(datetime.strptime(time3[i], form_time))\n",
    "    except:\n",
    "        time33.append(0)"
   ]
  },
  {
   "cell_type": "code",
   "execution_count": 26,
   "metadata": {},
   "outputs": [],
   "source": [
    "raw.예정일시 = time11\n",
    "raw.배차일시 = time22\n",
    "raw.승차일시 = time33"
   ]
  },
  {
   "cell_type": "code",
   "execution_count": 27,
   "metadata": {},
   "outputs": [],
   "source": [
    "raw = raw.dropna(axis=0)"
   ]
  },
  {
   "cell_type": "markdown",
   "metadata": {},
   "source": [
    "### 파일 저장"
   ]
  },
  {
   "cell_type": "code",
   "execution_count": 30,
   "metadata": {},
   "outputs": [
    {
     "data": {
      "text/plain": [
       "'D:\\\\workspace-Jwp\\\\python\\\\DataScience\\\\new_lec\\\\mini_project\\\\mini_02\\\\disabled\\\\code\\\\preprocess'"
      ]
     },
     "execution_count": 30,
     "metadata": {},
     "output_type": "execute_result"
    }
   ],
   "source": [
    "os.getcwd()"
   ]
  },
  {
   "cell_type": "code",
   "execution_count": 29,
   "metadata": {},
   "outputs": [],
   "source": [
    "raw.to_csv(\"call_taxi.csv\", encoding=\"euc-kr\", index=None)"
   ]
  },
  {
   "cell_type": "markdown",
   "metadata": {},
   "source": [
    "### 결측치 확인"
   ]
  },
  {
   "cell_type": "code",
   "execution_count": 152,
   "metadata": {},
   "outputs": [],
   "source": [
    "non1 = []\n",
    "for i in range(len(time1)):\n",
    "    if len(time1[i]) < 17:\n",
    "        non1.append([i, time1[i]])"
   ]
  },
  {
   "cell_type": "code",
   "execution_count": 171,
   "metadata": {},
   "outputs": [],
   "source": [
    "non2 = []\n",
    "non22 = []\n",
    "for i in range(len(time2)):\n",
    "    try:\n",
    "        if len(time2[i]) < 17:\n",
    "            non2.append([i, time2[i]])\n",
    "    except:\n",
    "        non22.append([i, time2[i]])"
   ]
  },
  {
   "cell_type": "code",
   "execution_count": 196,
   "metadata": {},
   "outputs": [
    {
     "data": {
      "text/plain": [
       "[[6517, '1900-01-01'], [6518, '1900-01-01'], [449598, '1900-01-01']]"
      ]
     },
     "execution_count": 196,
     "metadata": {},
     "output_type": "execute_result"
    }
   ],
   "source": [
    "non3 = []\n",
    "for i in range(len(time3)):\n",
    "    if len(time3[i]) < 17:\n",
    "        non3.append([i, time3[i]])"
   ]
  },
  {
   "cell_type": "markdown",
   "metadata": {},
   "source": [
    "### 함수"
   ]
  },
  {
   "cell_type": "code",
   "execution_count": 5,
   "metadata": {},
   "outputs": [],
   "source": [
    "def reform_time(data, column):\n",
    "    \n",
    "    time = []\n",
    "    for i in range(len(data[column])):\n",
    "        try:\n",
    "            temp = data[column][i].split()\n",
    "            temp = [temp[0]+' '+temp[2], temp[1]]\n",
    "            time.append(cal_time(temp[0], temp[1]))\n",
    "        except:\n",
    "            time.append(data[column][i])\n",
    "\n",
    "    return time"
   ]
  },
  {
   "cell_type": "code",
   "execution_count": 22,
   "metadata": {},
   "outputs": [],
   "source": [
    "def cal_time(date, string):\n",
    "    \n",
    "    form_time = \"%Y-%m-%d %H:%M:%S\"\n",
    "    date = datetime.strptime(date, form_time)\n",
    "    \n",
    "    if string == '오전':\n",
    "        if date.hour == 12:\n",
    "            date = date - timedelta(hours=12)\n",
    "    else:     \n",
    "        date = date + timedelta(hours=12)\n",
    "        \n",
    "    date = datetime.strftime(date, form_time)\n",
    "    return date"
   ]
  },
  {
   "cell_type": "code",
   "execution_count": null,
   "metadata": {},
   "outputs": [],
   "source": []
  }
 ],
 "metadata": {
  "kernelspec": {
   "display_name": "new_ML",
   "language": "python",
   "name": "new_ml"
  },
  "language_info": {
   "codemirror_mode": {
    "name": "ipython",
    "version": 3
   },
   "file_extension": ".py",
   "mimetype": "text/x-python",
   "name": "python",
   "nbconvert_exporter": "python",
   "pygments_lexer": "ipython3",
   "version": "3.6.9"
  }
 },
 "nbformat": 4,
 "nbformat_minor": 2
}
