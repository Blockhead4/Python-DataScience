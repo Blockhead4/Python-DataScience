{
 "cells": [
  {
   "cell_type": "markdown",
   "metadata": {},
   "source": [
    "## Mini_Project_01"
   ]
  },
  {
   "cell_type": "code",
   "execution_count": 2,
   "metadata": {},
   "outputs": [],
   "source": []
  },
  {
   "cell_type": "markdown",
   "metadata": {},
   "source": [
    "## Dependency"
   ]
  },
  {
   "cell_type": "code",
   "execution_count": 5,
   "metadata": {},
   "outputs": [],
   "source": [
    "# Machine Learning Algorithms\n",
    "from sklearn.linear_model import LinearRegression\n",
    "from sklearn.tree import DecisionTreeRegressor\n",
    "from sklearn.svm import SVC\n",
    "from sklearn.ensemble import RandomForestRegressor\n",
    "from sklearn.model_selection import train_test_split\n",
    "from sklearn.metrics import accuracy_score, mean_squared_error\n",
    "from sklearn.preprocessing import minmax_scale\n",
    "from scipy.stats import shapiro, probplot\n",
    "from scipy import stats\n",
    "\n",
    "# Artificial Neural Network\n",
    "from keras.models import Sequential\n",
    "from keras.layers import Dense, Dropout, BatchNormalization, Activation\n",
    "from keras.optimizers import Adam, rmsprop\n",
    "from keras import losses\n",
    "\n",
    "# Environmnets\n",
    "import pandas as pd\n",
    "import numpy as np\n",
    "import matplotlib.pyplot as plt\n",
    "import seaborn as sns\n",
    "%matplotlib inline"
   ]
  },
  {
   "cell_type": "markdown",
   "metadata": {},
   "source": [
    "## Load data"
   ]
  },
  {
   "cell_type": "code",
   "execution_count": 9,
   "metadata": {},
   "outputs": [],
   "source": [
    "data = pd.read_csv('../data/sales_건강음료.csv', encoding='euc-kr')"
   ]
  },
  {
   "cell_type": "code",
   "execution_count": 88,
   "metadata": {},
   "outputs": [
    {
     "data": {
      "text/html": [
       "<div>\n",
       "<style scoped>\n",
       "    .dataframe tbody tr th:only-of-type {\n",
       "        vertical-align: middle;\n",
       "    }\n",
       "\n",
       "    .dataframe tbody tr th {\n",
       "        vertical-align: top;\n",
       "    }\n",
       "\n",
       "    .dataframe thead th {\n",
       "        text-align: right;\n",
       "    }\n",
       "</style>\n",
       "<table border=\"1\" class=\"dataframe\">\n",
       "  <thead>\n",
       "    <tr style=\"text-align: right;\">\n",
       "      <th></th>\n",
       "      <th>YM</th>\n",
       "      <th>CATEGORY</th>\n",
       "      <th>ITEM_CNT</th>\n",
       "      <th>QTY</th>\n",
       "      <th>PRICE</th>\n",
       "      <th>MAXTEMP</th>\n",
       "      <th>SALEDAY</th>\n",
       "      <th>RAIN_DAY</th>\n",
       "      <th>HOLIDAY</th>\n",
       "    </tr>\n",
       "  </thead>\n",
       "  <tbody>\n",
       "    <tr>\n",
       "      <th>0</th>\n",
       "      <td>200901</td>\n",
       "      <td>건강음료</td>\n",
       "      <td>37</td>\n",
       "      <td>1410</td>\n",
       "      <td>1543</td>\n",
       "      <td>4</td>\n",
       "      <td>126753</td>\n",
       "      <td>151</td>\n",
       "      <td>12</td>\n",
       "    </tr>\n",
       "    <tr>\n",
       "      <th>1</th>\n",
       "      <td>200902</td>\n",
       "      <td>건강음료</td>\n",
       "      <td>37</td>\n",
       "      <td>1209</td>\n",
       "      <td>1543</td>\n",
       "      <td>9</td>\n",
       "      <td>113399</td>\n",
       "      <td>3014</td>\n",
       "      <td>8</td>\n",
       "    </tr>\n",
       "    <tr>\n",
       "      <th>2</th>\n",
       "      <td>200903</td>\n",
       "      <td>건강음료</td>\n",
       "      <td>38</td>\n",
       "      <td>1348</td>\n",
       "      <td>1547</td>\n",
       "      <td>12</td>\n",
       "      <td>129162</td>\n",
       "      <td>1383</td>\n",
       "      <td>9</td>\n",
       "    </tr>\n",
       "    <tr>\n",
       "      <th>3</th>\n",
       "      <td>200904</td>\n",
       "      <td>건강음료</td>\n",
       "      <td>38</td>\n",
       "      <td>1377</td>\n",
       "      <td>1500</td>\n",
       "      <td>19</td>\n",
       "      <td>126277</td>\n",
       "      <td>3564</td>\n",
       "      <td>8</td>\n",
       "    </tr>\n",
       "    <tr>\n",
       "      <th>4</th>\n",
       "      <td>200905</td>\n",
       "      <td>건강음료</td>\n",
       "      <td>40</td>\n",
       "      <td>1406</td>\n",
       "      <td>1528</td>\n",
       "      <td>25</td>\n",
       "      <td>129584</td>\n",
       "      <td>9288</td>\n",
       "      <td>12</td>\n",
       "    </tr>\n",
       "  </tbody>\n",
       "</table>\n",
       "</div>"
      ],
      "text/plain": [
       "       YM CATEGORY  ITEM_CNT   QTY  PRICE  MAXTEMP  SALEDAY  RAIN_DAY  HOLIDAY\n",
       "0  200901     건강음료        37  1410   1543        4   126753       151       12\n",
       "1  200902     건강음료        37  1209   1543        9   113399      3014        8\n",
       "2  200903     건강음료        38  1348   1547       12   129162      1383        9\n",
       "3  200904     건강음료        38  1377   1500       19   126277      3564        8\n",
       "4  200905     건강음료        40  1406   1528       25   129584      9288       12"
      ]
     },
     "execution_count": 88,
     "metadata": {},
     "output_type": "execute_result"
    }
   ],
   "source": [
    "data.head()"
   ]
  },
  {
   "cell_type": "code",
   "execution_count": 11,
   "metadata": {},
   "outputs": [],
   "source": [
    "Y = data['QTY']"
   ]
  },
  {
   "cell_type": "code",
   "execution_count": 12,
   "metadata": {},
   "outputs": [],
   "source": [
    "X = data.drop(['QTY', 'CATEGORY'], axis=1)"
   ]
  },
  {
   "cell_type": "code",
   "execution_count": 13,
   "metadata": {},
   "outputs": [],
   "source": [
    "X = np.array(X)"
   ]
  },
  {
   "cell_type": "code",
   "execution_count": 14,
   "metadata": {},
   "outputs": [],
   "source": [
    "x_train, x_test, y_train, y_test = train_test_split(X, Y, random_state=29)"
   ]
  },
  {
   "cell_type": "code",
   "execution_count": 15,
   "metadata": {},
   "outputs": [
    {
     "data": {
      "text/plain": [
       "(45, 7)"
      ]
     },
     "execution_count": 15,
     "metadata": {},
     "output_type": "execute_result"
    }
   ],
   "source": [
    "x_train.shape"
   ]
  },
  {
   "cell_type": "markdown",
   "metadata": {},
   "source": [
    "## LinearRegression"
   ]
  },
  {
   "cell_type": "code",
   "execution_count": 16,
   "metadata": {},
   "outputs": [
    {
     "name": "stdout",
     "output_type": "stream",
     "text": [
      "[Weight: 0.9573, P-value: 0.0347]\n"
     ]
    }
   ],
   "source": [
    "# Normality test\n",
    "weight, p_value = shapiro(Y)\n",
    "print(\"[Weight: %.4f, P-value: %.4f]\" % (weight, p_value))"
   ]
  },
  {
   "cell_type": "code",
   "execution_count": 17,
   "metadata": {},
   "outputs": [
    {
     "data": {
      "image/png": "[encoded data removed]",
      "text/plain": [
       "<Figure size 432x288 with 1 Axes>"
      ]
     },
     "metadata": {
      "needs_background": "light"
     },
     "output_type": "display_data"
    }
   ],
   "source": [
    "sns.distplot(Y, fit=stats.norm) \n",
    "plt.show() "
   ]
  },
  {
   "cell_type": "code",
   "execution_count": 18,
   "metadata": {},
   "outputs": [
    {
     "data": {
      "image/png": "[encoded data removed]",
      "text/plain": [
       "<Figure size 432x288 with 1 Axes>"
      ]
     },
     "metadata": {
      "needs_background": "light"
     },
     "output_type": "display_data"
    }
   ],
   "source": [
    "probplot(Y, plot=plt) \n",
    "plt.show()"
   ]
  },
  {
   "cell_type": "code",
   "execution_count": 19,
   "metadata": {
    "scrolled": true
   },
   "outputs": [
    {
     "data": {
      "text/plain": [
       "LinearRegression(copy_X=True, fit_intercept=True, n_jobs=None, normalize=False)"
      ]
     },
     "execution_count": 19,
     "metadata": {},
     "output_type": "execute_result"
    }
   ],
   "source": [
    "# Multi Linear Regression\n",
    "lm = LinearRegression()\n",
    "lm.fit(x_train, y_train)"
   ]
  },
  {
   "cell_type": "code",
   "execution_count": 20,
   "metadata": {},
   "outputs": [],
   "source": [
    "predictions = lm.predict(x_test)"
   ]
  },
  {
   "cell_type": "code",
   "execution_count": 21,
   "metadata": {
    "scrolled": true
   },
   "outputs": [
    {
     "data": {
      "text/plain": [
       "array([1717.47697751, 1982.54899816, 1466.02546223, 1445.6541032 ,\n",
       "       2037.88859575, 1589.75742271, 1898.52554995, 1596.66679728,\n",
       "       1918.09776337, 1646.58234425, 1519.24149756, 1689.50948917,\n",
       "       1379.62051216, 1452.20486643, 1826.09806066])"
      ]
     },
     "execution_count": 21,
     "metadata": {},
     "output_type": "execute_result"
    }
   ],
   "source": [
    "predictions"
   ]
  },
  {
   "cell_type": "code",
   "execution_count": 22,
   "metadata": {},
   "outputs": [
    {
     "data": {
      "text/plain": [
       "array([1501, 1578, 1409, 1448, 1975, 1670, 1907, 1572, 1780, 1467, 1580,\n",
       "       1678, 1313, 1406, 1670], dtype=int64)"
      ]
     },
     "execution_count": 22,
     "metadata": {},
     "output_type": "execute_result"
    }
   ],
   "source": [
    "y_real = np.array(y_test)\n",
    "y_real"
   ]
  },
  {
   "cell_type": "code",
   "execution_count": 23,
   "metadata": {},
   "outputs": [
    {
     "name": "stdout",
     "output_type": "stream",
     "text": [
      "[Pred: 1717.48, GT: 1501.00]\n",
      "[Pred: 1982.55, GT: 1578.00]\n",
      "[Pred: 1466.03, GT: 1409.00]\n",
      "[Pred: 1445.65, GT: 1448.00]\n",
      "[Pred: 2037.89, GT: 1975.00]\n",
      "[Pred: 1589.76, GT: 1670.00]\n",
      "[Pred: 1898.53, GT: 1907.00]\n",
      "[Pred: 1596.67, GT: 1572.00]\n",
      "[Pred: 1918.10, GT: 1780.00]\n",
      "[Pred: 1646.58, GT: 1467.00]\n",
      "[Pred: 1519.24, GT: 1580.00]\n",
      "[Pred: 1689.51, GT: 1678.00]\n",
      "[Pred: 1379.62, GT: 1313.00]\n",
      "[Pred: 1452.20, GT: 1406.00]\n",
      "[Pred: 1826.10, GT: 1670.00]\n"
     ]
    }
   ],
   "source": [
    "for i in range(len(y_test)):\n",
    "    print(\"[Pred: %.2f, GT: %.2f]\" % (predictions[i], y_real[i]))"
   ]
  },
  {
   "cell_type": "code",
   "execution_count": 24,
   "metadata": {},
   "outputs": [
    {
     "data": {
      "text/plain": [
       "143.97646927900757"
      ]
     },
     "execution_count": 24,
     "metadata": {},
     "output_type": "execute_result"
    }
   ],
   "source": [
    "import math\n",
    "math.sqrt(mean_squared_error(y_real, predictions))"
   ]
  },
  {
   "cell_type": "markdown",
   "metadata": {},
   "source": [
    "## Decision Tree"
   ]
  },
  {
   "cell_type": "code",
   "execution_count": 25,
   "metadata": {},
   "outputs": [
    {
     "data": {
      "text/plain": [
       "DecisionTreeRegressor(criterion='mse', max_depth=None, max_features=None,\n",
       "                      max_leaf_nodes=None, min_impurity_decrease=0.0,\n",
       "                      min_impurity_split=None, min_samples_leaf=1,\n",
       "                      min_samples_split=2, min_weight_fraction_leaf=0.0,\n",
       "                      presort=False, random_state=None, splitter='best')"
      ]
     },
     "execution_count": 25,
     "metadata": {},
     "output_type": "execute_result"
    }
   ],
   "source": [
    "dt = DecisionTreeRegressor()\n",
    "dt.fit(x_train, y_train)"
   ]
  },
  {
   "cell_type": "code",
   "execution_count": 26,
   "metadata": {},
   "outputs": [],
   "source": [
    "predictions = dt.predict(x_test)"
   ]
  },
  {
   "cell_type": "code",
   "execution_count": 27,
   "metadata": {},
   "outputs": [],
   "source": [
    "y_real = np.array(y_test)"
   ]
  },
  {
   "cell_type": "code",
   "execution_count": 35,
   "metadata": {},
   "outputs": [],
   "source": [
    "def apply_model(x, y, x_test, y_test, model='lm'):\n",
    "    \n",
    "    if model == 'lm':\n",
    "        m = LinearRegression()\n",
    "        m.fit(x, y)\n",
    "        \n",
    "    elif model =='dt':\n",
    "        m = DecisionTreeRegressor()\n",
    "        m.fit(x, y)\n",
    "        \n",
    "    elif model =='svm':\n",
    "        m = SVC()\n",
    "        m.fit(x, y)\n",
    "        \n",
    "    elif model =='rf':\n",
    "        m = RandomForestRegressor()\n",
    "        m.fit(x, y)\n",
    "        \n",
    "    elif model == 'ann':\n",
    "        \n",
    "        m = Sequential()\n",
    "        \n",
    "        m.add(Dense(16, input_dim=7))\n",
    "        m.add(Activation('relu'))\n",
    "        m.add(Dropout(0.2))\n",
    "        m.add(Dense(8))\n",
    "        m.add(Activation('relu'))\n",
    "        m.add(Dropout(0.2))\n",
    "        m.add(Dense(1, activation='relu'))\n",
    "        \n",
    "        m.summary()\n",
    "        \n",
    "        m.compile(loss='mean_squared_error', \n",
    "                  optimizer=rmsprop,\n",
    "                  metrics=['accuracy'])\n",
    "        \n",
    "        m.fit(x, y, batch_size=10, epochs=10, validation_data=(x_test, y_test))\n",
    "        \n",
    "    else:\n",
    "        raise ExceptionError(\"ML model is not correct!, plz confirm the type of model\")\n",
    "        \n",
    "    predictions = m.predict(x_test)\n",
    "    y_real = np.array(y_test)\n",
    "    rmse = math.sqrt(mean_squared_error(y_real, predictions))\n",
    "    \n",
    "    return m, predictions, rmse"
   ]
  },
  {
   "cell_type": "code",
   "execution_count": null,
   "metadata": {},
   "outputs": [],
   "source": []
  },
  {
   "cell_type": "code",
   "execution_count": null,
   "metadata": {},
   "outputs": [],
   "source": []
  },
  {
   "cell_type": "code",
   "execution_count": 29,
   "metadata": {},
   "outputs": [],
   "source": [
    "x_norm = minmax_scale(x_train)\n",
    "y_norm = minmax_scale(y_train)"
   ]
  },
  {
   "cell_type": "code",
   "execution_count": 86,
   "metadata": {},
   "outputs": [
    {
     "data": {
      "text/plain": [
       "(45, 45)"
      ]
     },
     "execution_count": 86,
     "metadata": {},
     "output_type": "execute_result"
    }
   ],
   "source": [
    "len(y_norm), len(x_norm)"
   ]
  },
  {
   "cell_type": "code",
   "execution_count": 37,
   "metadata": {},
   "outputs": [
    {
     "name": "stdout",
     "output_type": "stream",
     "text": [
      "_________________________________________________________________\n",
      "Layer (type)                 Output Shape              Param #   \n",
      "=================================================================\n",
      "dense_10 (Dense)             (None, 16)                128       \n",
      "_________________________________________________________________\n",
      "activation_7 (Activation)    (None, 16)                0         \n",
      "_________________________________________________________________\n",
      "dropout_7 (Dropout)          (None, 16)                0         \n",
      "_________________________________________________________________\n",
      "dense_11 (Dense)             (None, 8)                 136       \n",
      "_________________________________________________________________\n",
      "activation_8 (Activation)    (None, 8)                 0         \n",
      "_________________________________________________________________\n",
      "dropout_8 (Dropout)          (None, 8)                 0         \n",
      "_________________________________________________________________\n",
      "dense_12 (Dense)             (None, 1)                 9         \n",
      "=================================================================\n",
      "Total params: 273\n",
      "Trainable params: 273\n",
      "Non-trainable params: 0\n",
      "_________________________________________________________________\n"
     ]
    }
   ],
   "source": [
    "m = Sequential()\n",
    "        \n",
    "m.add(Dense(16, input_dim=7))\n",
    "m.add(Activation('relu'))\n",
    "m.add(Dropout(0.2))\n",
    "m.add(Dense(8))\n",
    "m.add(Activation('relu'))\n",
    "m.add(Dropout(0.2))\n",
    "m.add(Dense(1, activation='relu'))\n",
    "\n",
    "m.summary()\n",
    "\n",
    "m.compile(loss='mean_squared_error', \n",
    "          optimizer=rmsprop(),\n",
    "          metrics=['accuracy'])"
   ]
  },
  {
   "cell_type": "code",
   "execution_count": 87,
   "metadata": {},
   "outputs": [
    {
     "name": "stdout",
     "output_type": "stream",
     "text": [
      "Epoch 1/10\n",
      "45/45 [==============================] - 0s 724us/step - loss: 0.0304 - acc: 0.0444\n",
      "Epoch 2/10\n",
      "45/45 [==============================] - 0s 244us/step - loss: 0.0231 - acc: 0.0444\n",
      "Epoch 3/10\n",
      "45/45 [==============================] - 0s 222us/step - loss: 0.0269 - acc: 0.0444\n",
      "Epoch 4/10\n",
      "45/45 [==============================] - 0s 200us/step - loss: 0.0266 - acc: 0.0444\n",
      "Epoch 5/10\n",
      "45/45 [==============================] - 0s 178us/step - loss: 0.0297 - acc: 0.0222\n",
      "Epoch 6/10\n",
      "45/45 [==============================] - 0s 222us/step - loss: 0.0201 - acc: 0.0444\n",
      "Epoch 7/10\n",
      "45/45 [==============================] - 0s 178us/step - loss: 0.0228 - acc: 0.0444\n",
      "Epoch 8/10\n",
      "45/45 [==============================] - 0s 133us/step - loss: 0.0212 - acc: 0.0444\n",
      "Epoch 9/10\n",
      "45/45 [==============================] - 0s 156us/step - loss: 0.0251 - acc: 0.0444\n",
      "Epoch 10/10\n",
      "45/45 [==============================] - 0s 133us/step - loss: 0.0282 - acc: 0.0444\n"
     ]
    },
    {
     "data": {
      "text/plain": [
       "<keras.callbacks.History at 0x24d73208>"
      ]
     },
     "execution_count": 87,
     "metadata": {},
     "output_type": "execute_result"
    }
   ],
   "source": [
    "m.fit(x_norm, y_norm, batch_size=5, epochs=10)"
   ]
  },
  {
   "cell_type": "code",
   "execution_count": null,
   "metadata": {},
   "outputs": [],
   "source": []
  }
 ],
 "metadata": {
  "kernelspec": {
   "display_name": "new_ML",
   "language": "python",
   "name": "new_ml"
  },
  "language_info": {
   "codemirror_mode": {
    "name": "ipython",
    "version": 3
   },
   "file_extension": ".py",
   "mimetype": "text/x-python",
   "name": "python",
   "nbconvert_exporter": "python",
   "pygments_lexer": "ipython3",
   "version": "3.6.9"
  }
 },
 "nbformat": 4,
 "nbformat_minor": 2
}
