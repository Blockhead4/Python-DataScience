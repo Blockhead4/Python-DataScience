{
 "cells": [
  {
   "cell_type": "markdown",
   "metadata": {},
   "source": [
    "## Machine Learning Algorithms"
   ]
  },
  {
   "cell_type": "markdown",
   "metadata": {},
   "source": [
    "### Dependency"
   ]
  },
  {
   "cell_type": "code",
   "execution_count": 50,
   "metadata": {},
   "outputs": [],
   "source": [
    "import seaborn as sns\n",
    "import numpy as np\n",
    "import pandas as pd\n",
    "import random\n",
    "\n",
    "from sklearn.model_selection import train_test_split"
   ]
  },
  {
   "cell_type": "markdown",
   "metadata": {},
   "source": [
    "### Load dataset"
   ]
  },
  {
   "cell_type": "code",
   "execution_count": 470,
   "metadata": {},
   "outputs": [],
   "source": [
    "iris = sns.load_dataset('iris')"
   ]
  },
  {
   "cell_type": "markdown",
   "metadata": {},
   "source": [
    "### Variable settings"
   ]
  },
  {
   "cell_type": "code",
   "execution_count": 471,
   "metadata": {},
   "outputs": [],
   "source": [
    "X = iris.iloc[:, 0:4]\n",
    "y = iris.iloc[:, 4]"
   ]
  },
  {
   "cell_type": "markdown",
   "metadata": {},
   "source": [
    "### Divide dataset"
   ]
  },
  {
   "cell_type": "code",
   "execution_count": 472,
   "metadata": {},
   "outputs": [],
   "source": [
    "x_train, x_test, y_train, y_test = train_test_split(X, y, test_size=0.33, random_state=42)"
   ]
  },
  {
   "cell_type": "code",
   "execution_count": 49,
   "metadata": {
    "scrolled": true
   },
   "outputs": [
    {
     "data": {
      "text/html": [
       "<div>\n",
       "<style scoped>\n",
       "    .dataframe tbody tr th:only-of-type {\n",
       "        vertical-align: middle;\n",
       "    }\n",
       "\n",
       "    .dataframe tbody tr th {\n",
       "        vertical-align: top;\n",
       "    }\n",
       "\n",
       "    .dataframe thead th {\n",
       "        text-align: right;\n",
       "    }\n",
       "</style>\n",
       "<table border=\"1\" class=\"dataframe\">\n",
       "  <thead>\n",
       "    <tr style=\"text-align: right;\">\n",
       "      <th></th>\n",
       "      <th>sepal_length</th>\n",
       "      <th>sepal_width</th>\n",
       "      <th>petal_length</th>\n",
       "      <th>petal_width</th>\n",
       "    </tr>\n",
       "    <tr>\n",
       "      <th>species</th>\n",
       "      <th></th>\n",
       "      <th></th>\n",
       "      <th></th>\n",
       "      <th></th>\n",
       "    </tr>\n",
       "  </thead>\n",
       "  <tbody>\n",
       "    <tr>\n",
       "      <th>setosa</th>\n",
       "      <td>39</td>\n",
       "      <td>39</td>\n",
       "      <td>39</td>\n",
       "      <td>39</td>\n",
       "    </tr>\n",
       "    <tr>\n",
       "      <th>versicolor</th>\n",
       "      <td>37</td>\n",
       "      <td>37</td>\n",
       "      <td>37</td>\n",
       "      <td>37</td>\n",
       "    </tr>\n",
       "    <tr>\n",
       "      <th>virginica</th>\n",
       "      <td>29</td>\n",
       "      <td>29</td>\n",
       "      <td>29</td>\n",
       "      <td>29</td>\n",
       "    </tr>\n",
       "  </tbody>\n",
       "</table>\n",
       "</div>"
      ],
      "text/plain": [
       "            sepal_length  sepal_width  petal_length  petal_width\n",
       "species                                                         \n",
       "setosa                39           39            39           39\n",
       "versicolor            37           37            37           37\n",
       "virginica             29           29            29           29"
      ]
     },
     "execution_count": 49,
     "metadata": {},
     "output_type": "execute_result"
    }
   ],
   "source": [
    "train.groupby(train.species).count()"
   ]
  },
  {
   "cell_type": "markdown",
   "metadata": {},
   "source": [
    "### 1. K-Nearest Neighbors"
   ]
  },
  {
   "cell_type": "code",
   "execution_count": null,
   "metadata": {},
   "outputs": [],
   "source": [
    "from sklearn.neighbors import KNeighborsClassifier"
   ]
  },
  {
   "cell_type": "code",
   "execution_count": 37,
   "metadata": {},
   "outputs": [
    {
     "data": {
      "text/plain": [
       "KNeighborsClassifier(algorithm='auto', leaf_size=30, metric='minkowski',\n",
       "                     metric_params=None, n_jobs=None, n_neighbors=5, p=2,\n",
       "                     weights='uniform')"
      ]
     },
     "execution_count": 37,
     "metadata": {},
     "output_type": "execute_result"
    }
   ],
   "source": [
    "classfier = KNeighborsClassifier(n_neighbors=5)\n",
    "classfier.fit(x_train, y_train)"
   ]
  },
  {
   "cell_type": "code",
   "execution_count": 38,
   "metadata": {},
   "outputs": [],
   "source": [
    "y_pred = classfier.predict(x_test)"
   ]
  },
  {
   "cell_type": "code",
   "execution_count": 41,
   "metadata": {},
   "outputs": [
    {
     "name": "stdout",
     "output_type": "stream",
     "text": [
      "[[19  0  0]\n",
      " [ 0 15  0]\n",
      " [ 0  1 15]]\n",
      "              precision    recall  f1-score   support\n",
      "\n",
      "      setosa       1.00      1.00      1.00        19\n",
      "  versicolor       0.94      1.00      0.97        15\n",
      "   virginica       1.00      0.94      0.97        16\n",
      "\n",
      "    accuracy                           0.98        50\n",
      "   macro avg       0.98      0.98      0.98        50\n",
      "weighted avg       0.98      0.98      0.98        50\n",
      "\n"
     ]
    }
   ],
   "source": [
    "from sklearn.metrics import classification_report, confusion_matrix\n",
    "print(confusion_matrix(y_test, y_pred))\n",
    "print(classification_report(y_test, y_pred))"
   ]
  },
  {
   "cell_type": "markdown",
   "metadata": {},
   "source": [
    "### 2. Naive Bayes"
   ]
  },
  {
   "cell_type": "code",
   "execution_count": 72,
   "metadata": {},
   "outputs": [],
   "source": [
    "from sklearn.naive_bayes import GaussianNB, MultinomialNB\n",
    "from sklearn.metrics import accuracy_score"
   ]
  },
  {
   "cell_type": "markdown",
   "metadata": {},
   "source": [
    "#### Gaussian NB"
   ]
  },
  {
   "cell_type": "code",
   "execution_count": 73,
   "metadata": {},
   "outputs": [],
   "source": [
    "gnb = GaussianNB()\n",
    "y_pred = gnb.fit(x_train, y_train).predict(x_test)"
   ]
  },
  {
   "cell_type": "code",
   "execution_count": 74,
   "metadata": {},
   "outputs": [
    {
     "name": "stdout",
     "output_type": "stream",
     "text": [
      "Number of mislabeled points out of a total 150 points : 2\n",
      "[[19  0  0]\n",
      " [ 0 14  1]\n",
      " [ 0  1 15]]\n",
      "0.96\n"
     ]
    }
   ],
   "source": [
    "print(\"Number of mislabeled points out of a total %d points : %d\"\n",
    "      % (iris.shape[0],(y_test != y_pred).sum()))\n",
    "\n",
    "print(confusion_matrix(y_test, y_pred))\n",
    "print(accuracy_score(y_test, y_pred, normalize=True))"
   ]
  },
  {
   "cell_type": "markdown",
   "metadata": {},
   "source": [
    "#### Multinomial NB"
   ]
  },
  {
   "cell_type": "code",
   "execution_count": 75,
   "metadata": {
    "scrolled": true
   },
   "outputs": [],
   "source": [
    "mnb = MultinomialNB()\n",
    "y_pred = mnb.fit(x_train, y_train).predict(x_test)"
   ]
  },
  {
   "cell_type": "code",
   "execution_count": 76,
   "metadata": {},
   "outputs": [
    {
     "name": "stdout",
     "output_type": "stream",
     "text": [
      "Number of mislabeled points out of a total 150 points : 2\n",
      "[[19  0  0]\n",
      " [ 0 15  0]\n",
      " [ 0  2 14]]\n",
      "0.96\n"
     ]
    }
   ],
   "source": [
    "print(\"Number of mislabeled points out of a total %d points : %d\"\n",
    "      % (iris.shape[0],(y_test != y_pred).sum()))\n",
    "\n",
    "print(confusion_matrix(y_test, y_pred))\n",
    "print(accuracy_score(y_test, y_pred, normalize=True))"
   ]
  },
  {
   "cell_type": "markdown",
   "metadata": {},
   "source": [
    "### 3. Logistic Regression"
   ]
  },
  {
   "cell_type": "code",
   "execution_count": 85,
   "metadata": {},
   "outputs": [],
   "source": [
    "from sklearn.linear_model import LogisticRegression"
   ]
  },
  {
   "cell_type": "code",
   "execution_count": 86,
   "metadata": {},
   "outputs": [
    {
     "name": "stderr",
     "output_type": "stream",
     "text": [
      "C:\\ProgramData\\Anaconda3\\envs\\new_ml\\lib\\site-packages\\sklearn\\linear_model\\logistic.py:432: FutureWarning: Default solver will be changed to 'lbfgs' in 0.22. Specify a solver to silence this warning.\n",
      "  FutureWarning)\n",
      "C:\\ProgramData\\Anaconda3\\envs\\new_ml\\lib\\site-packages\\sklearn\\linear_model\\logistic.py:469: FutureWarning: Default multi_class will be changed to 'auto' in 0.22. Specify the multi_class option to silence this warning.\n",
      "  \"this warning.\", FutureWarning)\n"
     ]
    }
   ],
   "source": [
    "logis = LogisticRegression()\n",
    "logis.fit(x_train, y_train)\n",
    "y_pred = logis.predict(x_test)"
   ]
  },
  {
   "cell_type": "code",
   "execution_count": 87,
   "metadata": {},
   "outputs": [
    {
     "name": "stdout",
     "output_type": "stream",
     "text": [
      "[[19  0  0]\n",
      " [ 0 15  0]\n",
      " [ 0  0 16]]\n",
      "1.0\n"
     ]
    }
   ],
   "source": [
    "print(confusion_matrix(y_test, y_pred))\n",
    "print(accuracy_score(y_test, y_pred, normalize=True))"
   ]
  },
  {
   "cell_type": "markdown",
   "metadata": {},
   "source": [
    "### 4. Decision Tree"
   ]
  },
  {
   "cell_type": "code",
   "execution_count": 88,
   "metadata": {},
   "outputs": [],
   "source": [
    "from sklearn import tree"
   ]
  },
  {
   "cell_type": "code",
   "execution_count": 89,
   "metadata": {},
   "outputs": [],
   "source": [
    "dctree = tree.DecisionTreeClassifier()\n",
    "dctree.fit(x_train, y_train)\n",
    "y_pred = dctree.predict(x_test)"
   ]
  },
  {
   "cell_type": "code",
   "execution_count": 90,
   "metadata": {},
   "outputs": [
    {
     "name": "stdout",
     "output_type": "stream",
     "text": [
      "[[19  0  0]\n",
      " [ 0 14  1]\n",
      " [ 0  1 15]]\n",
      "0.96\n"
     ]
    }
   ],
   "source": [
    "print(confusion_matrix(y_test, y_pred))\n",
    "print(accuracy_score(y_test, y_pred, normalize=True))"
   ]
  },
  {
   "cell_type": "markdown",
   "metadata": {},
   "source": [
    "### 5. Artificial Neural Network"
   ]
  },
  {
   "cell_type": "code",
   "execution_count": 132,
   "metadata": {},
   "outputs": [],
   "source": [
    "from keras.layers import *\n",
    "from keras.models import Sequential\n",
    "from sklearn.preprocessing import LabelEncoder\n",
    "from keras.utils import np_utils"
   ]
  },
  {
   "cell_type": "code",
   "execution_count": 473,
   "metadata": {},
   "outputs": [],
   "source": [
    "x_values = np.array(x_train.values)\n",
    "x_test_ = np.array(x_test.values)\n",
    "\n",
    "le = LabelEncoder()\n",
    "y_values = le.fit_transform(y_train)\n",
    "y_values = np_utils.to_categorical(y_values)\n",
    "\n",
    "y_test_ = le.fit_transform(y_test)\n",
    "y_test_ = np_utils.to_categorical(y_test_)"
   ]
  },
  {
   "cell_type": "code",
   "execution_count": 476,
   "metadata": {},
   "outputs": [
    {
     "name": "stdout",
     "output_type": "stream",
     "text": [
      "_________________________________________________________________\n",
      "Layer (type)                 Output Shape              Param #   \n",
      "=================================================================\n",
      "dense_81 (Dense)             (None, 16)                80        \n",
      "_________________________________________________________________\n",
      "dense_82 (Dense)             (None, 8)                 136       \n",
      "_________________________________________________________________\n",
      "dense_83 (Dense)             (None, 3)                 27        \n",
      "=================================================================\n",
      "Total params: 243\n",
      "Trainable params: 243\n",
      "Non-trainable params: 0\n",
      "_________________________________________________________________\n"
     ]
    }
   ],
   "source": [
    "model = Sequential()\n",
    "\n",
    "model.add(Dense(16, input_dim=x_values.shape[1], activation='relu'))\n",
    "model.add(Dense(8, activation='relu'))\n",
    "model.add(Dense(3, activation='softmax'))\n",
    "\n",
    "model.summary()\n",
    "\n",
    "model.compile(loss='categorical_crossentropy',\n",
    "             optimizer='adam',\n",
    "             metrics=['accuracy'])"
   ]
  },
  {
   "cell_type": "code",
   "execution_count": 477,
   "metadata": {},
   "outputs": [
    {
     "name": "stdout",
     "output_type": "stream",
     "text": [
      "Epoch 1/100\n",
      "100/100 [==============================] - 1s 6ms/step - loss: 0.9899 - acc: 0.3500\n",
      "Epoch 2/100\n",
      "100/100 [==============================] - 0s 80us/step - loss: 0.9482 - acc: 0.5800\n",
      "Epoch 3/100\n",
      "100/100 [==============================] - 0s 100us/step - loss: 0.9361 - acc: 0.6200\n",
      "Epoch 4/100\n",
      "100/100 [==============================] - 0s 90us/step - loss: 0.9284 - acc: 0.6300\n",
      "Epoch 5/100\n",
      "100/100 [==============================] - 0s 100us/step - loss: 0.9191 - acc: 0.6300\n",
      "Epoch 6/100\n",
      "100/100 [==============================] - 0s 100us/step - loss: 0.9108 - acc: 0.6300\n",
      "Epoch 7/100\n",
      "100/100 [==============================] - 0s 100us/step - loss: 0.9023 - acc: 0.6400\n",
      "Epoch 8/100\n",
      "100/100 [==============================] - 0s 100us/step - loss: 0.8938 - acc: 0.6500\n",
      "Epoch 9/100\n",
      "100/100 [==============================] - 0s 90us/step - loss: 0.8881 - acc: 0.6500\n",
      "Epoch 10/100\n",
      "100/100 [==============================] - 0s 90us/step - loss: 0.8802 - acc: 0.6500\n",
      "Epoch 11/100\n",
      "100/100 [==============================] - 0s 90us/step - loss: 0.8717 - acc: 0.6500\n",
      "Epoch 12/100\n",
      "100/100 [==============================] - 0s 90us/step - loss: 0.8619 - acc: 0.6500\n",
      "Epoch 13/100\n",
      "100/100 [==============================] - 0s 100us/step - loss: 0.8540 - acc: 0.6400\n",
      "Epoch 14/100\n",
      "100/100 [==============================] - 0s 90us/step - loss: 0.8461 - acc: 0.6500\n",
      "Epoch 15/100\n",
      "100/100 [==============================] - 0s 90us/step - loss: 0.8375 - acc: 0.6500\n",
      "Epoch 16/100\n",
      "100/100 [==============================] - 0s 90us/step - loss: 0.8304 - acc: 0.6500\n",
      "Epoch 17/100\n",
      "100/100 [==============================] - 0s 100us/step - loss: 0.8218 - acc: 0.6500\n",
      "Epoch 18/100\n",
      "100/100 [==============================] - 0s 100us/step - loss: 0.8133 - acc: 0.6500\n",
      "Epoch 19/100\n",
      "100/100 [==============================] - 0s 100us/step - loss: 0.8057 - acc: 0.6500\n",
      "Epoch 20/100\n",
      "100/100 [==============================] - 0s 100us/step - loss: 0.7983 - acc: 0.6500\n",
      "Epoch 21/100\n",
      "100/100 [==============================] - 0s 90us/step - loss: 0.7898 - acc: 0.6500\n",
      "Epoch 22/100\n",
      "100/100 [==============================] - 0s 100us/step - loss: 0.7815 - acc: 0.6500\n",
      "Epoch 23/100\n",
      "100/100 [==============================] - 0s 80us/step - loss: 0.7742 - acc: 0.6500\n",
      "Epoch 24/100\n",
      "100/100 [==============================] - 0s 110us/step - loss: 0.7662 - acc: 0.6500\n",
      "Epoch 25/100\n",
      "100/100 [==============================] - 0s 90us/step - loss: 0.7588 - acc: 0.6500\n",
      "Epoch 26/100\n",
      "100/100 [==============================] - 0s 90us/step - loss: 0.7522 - acc: 0.6500\n",
      "Epoch 27/100\n",
      "100/100 [==============================] - 0s 100us/step - loss: 0.7471 - acc: 0.6500\n",
      "Epoch 28/100\n",
      "100/100 [==============================] - 0s 100us/step - loss: 0.7366 - acc: 0.6500\n",
      "Epoch 29/100\n",
      "100/100 [==============================] - 0s 100us/step - loss: 0.7318 - acc: 0.6500\n",
      "Epoch 30/100\n",
      "100/100 [==============================] - 0s 90us/step - loss: 0.7228 - acc: 0.6500\n",
      "Epoch 31/100\n",
      "100/100 [==============================] - 0s 80us/step - loss: 0.7176 - acc: 0.6600\n",
      "Epoch 32/100\n",
      "100/100 [==============================] - 0s 100us/step - loss: 0.7095 - acc: 0.6600\n",
      "Epoch 33/100\n",
      "100/100 [==============================] - 0s 90us/step - loss: 0.7038 - acc: 0.6600\n",
      "Epoch 34/100\n",
      "100/100 [==============================] - 0s 90us/step - loss: 0.6976 - acc: 0.6900\n",
      "Epoch 35/100\n",
      "100/100 [==============================] - 0s 90us/step - loss: 0.6929 - acc: 0.6900\n",
      "Epoch 36/100\n",
      "100/100 [==============================] - 0s 100us/step - loss: 0.6844 - acc: 0.7000\n",
      "Epoch 37/100\n",
      "100/100 [==============================] - 0s 110us/step - loss: 0.6789 - acc: 0.7100\n",
      "Epoch 38/100\n",
      "100/100 [==============================] - 0s 100us/step - loss: 0.6744 - acc: 0.7000\n",
      "Epoch 39/100\n",
      "100/100 [==============================] - 0s 110us/step - loss: 0.6637 - acc: 0.7800\n",
      "Epoch 40/100\n",
      "100/100 [==============================] - 0s 90us/step - loss: 0.6573 - acc: 0.7900\n",
      "Epoch 41/100\n",
      "100/100 [==============================] - 0s 110us/step - loss: 0.6521 - acc: 0.8000\n",
      "Epoch 42/100\n",
      "100/100 [==============================] - 0s 100us/step - loss: 0.6450 - acc: 0.8300\n",
      "Epoch 43/100\n",
      "100/100 [==============================] - 0s 90us/step - loss: 0.6403 - acc: 0.8400\n",
      "Epoch 44/100\n",
      "100/100 [==============================] - 0s 120us/step - loss: 0.6329 - acc: 0.8400\n",
      "Epoch 45/100\n",
      "100/100 [==============================] - 0s 110us/step - loss: 0.6272 - acc: 0.8400\n",
      "Epoch 46/100\n",
      "100/100 [==============================] - 0s 100us/step - loss: 0.6196 - acc: 0.8500\n",
      "Epoch 47/100\n",
      "100/100 [==============================] - 0s 110us/step - loss: 0.6141 - acc: 0.8600\n",
      "Epoch 48/100\n",
      "100/100 [==============================] - 0s 100us/step - loss: 0.6083 - acc: 0.8500\n",
      "Epoch 49/100\n",
      "100/100 [==============================] - 0s 100us/step - loss: 0.6043 - acc: 0.9200\n",
      "Epoch 50/100\n",
      "100/100 [==============================] - 0s 100us/step - loss: 0.5945 - acc: 0.9200\n",
      "Epoch 51/100\n",
      "100/100 [==============================] - 0s 90us/step - loss: 0.5937 - acc: 0.8400\n",
      "Epoch 52/100\n",
      "100/100 [==============================] - 0s 90us/step - loss: 0.5865 - acc: 0.9300\n",
      "Epoch 53/100\n",
      "100/100 [==============================] - 0s 110us/step - loss: 0.5770 - acc: 0.9200\n",
      "Epoch 54/100\n",
      "100/100 [==============================] - 0s 110us/step - loss: 0.5744 - acc: 0.9100\n",
      "Epoch 55/100\n",
      "100/100 [==============================] - 0s 100us/step - loss: 0.5664 - acc: 0.9200\n",
      "Epoch 56/100\n",
      "100/100 [==============================] - 0s 100us/step - loss: 0.5590 - acc: 0.9200\n",
      "Epoch 57/100\n",
      "100/100 [==============================] - 0s 100us/step - loss: 0.5546 - acc: 0.9400\n",
      "Epoch 58/100\n",
      "100/100 [==============================] - 0s 100us/step - loss: 0.5472 - acc: 0.9400\n",
      "Epoch 59/100\n",
      "100/100 [==============================] - 0s 90us/step - loss: 0.5423 - acc: 0.9400\n",
      "Epoch 60/100\n",
      "100/100 [==============================] - 0s 100us/step - loss: 0.5389 - acc: 0.9500\n",
      "Epoch 61/100\n",
      "100/100 [==============================] - 0s 110us/step - loss: 0.5276 - acc: 0.9400\n",
      "Epoch 62/100\n",
      "100/100 [==============================] - 0s 80us/step - loss: 0.5282 - acc: 0.9400\n",
      "Epoch 63/100\n",
      "100/100 [==============================] - 0s 80us/step - loss: 0.5168 - acc: 0.9400\n",
      "Epoch 64/100\n",
      "100/100 [==============================] - 0s 70us/step - loss: 0.5104 - acc: 0.9400\n",
      "Epoch 65/100\n",
      "100/100 [==============================] - 0s 110us/step - loss: 0.5048 - acc: 0.9500\n",
      "Epoch 66/100\n",
      "100/100 [==============================] - 0s 90us/step - loss: 0.4983 - acc: 0.9400\n",
      "Epoch 67/100\n",
      "100/100 [==============================] - 0s 100us/step - loss: 0.4953 - acc: 0.9500\n",
      "Epoch 68/100\n",
      "100/100 [==============================] - 0s 90us/step - loss: 0.4861 - acc: 0.9600\n",
      "Epoch 69/100\n",
      "100/100 [==============================] - 0s 100us/step - loss: 0.4814 - acc: 0.9400\n",
      "Epoch 70/100\n",
      "100/100 [==============================] - 0s 80us/step - loss: 0.4766 - acc: 0.9500\n",
      "Epoch 71/100\n",
      "100/100 [==============================] - 0s 110us/step - loss: 0.4715 - acc: 0.9700\n",
      "Epoch 72/100\n",
      "100/100 [==============================] - 0s 90us/step - loss: 0.4638 - acc: 0.9500\n",
      "Epoch 73/100\n",
      "100/100 [==============================] - 0s 90us/step - loss: 0.4599 - acc: 0.9400\n",
      "Epoch 74/100\n",
      "100/100 [==============================] - 0s 100us/step - loss: 0.4533 - acc: 0.9600\n",
      "Epoch 75/100\n",
      "100/100 [==============================] - 0s 90us/step - loss: 0.4472 - acc: 0.9600\n",
      "Epoch 76/100\n",
      "100/100 [==============================] - 0s 100us/step - loss: 0.4419 - acc: 0.9600\n",
      "Epoch 77/100\n",
      "100/100 [==============================] - 0s 100us/step - loss: 0.4359 - acc: 0.9500\n",
      "Epoch 78/100\n",
      "100/100 [==============================] - 0s 90us/step - loss: 0.4337 - acc: 0.9700\n",
      "Epoch 79/100\n",
      "100/100 [==============================] - 0s 100us/step - loss: 0.4380 - acc: 0.9400\n",
      "Epoch 80/100\n",
      "100/100 [==============================] - 0s 90us/step - loss: 0.4192 - acc: 0.9500\n",
      "Epoch 81/100\n",
      "100/100 [==============================] - 0s 100us/step - loss: 0.4164 - acc: 0.9700\n",
      "Epoch 82/100\n",
      "100/100 [==============================] - 0s 90us/step - loss: 0.4102 - acc: 0.9600\n",
      "Epoch 83/100\n",
      "100/100 [==============================] - 0s 90us/step - loss: 0.4050 - acc: 0.9600\n",
      "Epoch 84/100\n"
     ]
    },
    {
     "name": "stdout",
     "output_type": "stream",
     "text": [
      "100/100 [==============================] - 0s 80us/step - loss: 0.4062 - acc: 0.9800\n",
      "Epoch 85/100\n",
      "100/100 [==============================] - 0s 90us/step - loss: 0.3951 - acc: 0.9600\n",
      "Epoch 86/100\n",
      "100/100 [==============================] - 0s 90us/step - loss: 0.3940 - acc: 0.9500\n",
      "Epoch 87/100\n",
      "100/100 [==============================] - 0s 100us/step - loss: 0.3880 - acc: 0.9700\n",
      "Epoch 88/100\n",
      "100/100 [==============================] - 0s 90us/step - loss: 0.3824 - acc: 0.9500\n",
      "Epoch 89/100\n",
      "100/100 [==============================] - 0s 110us/step - loss: 0.3790 - acc: 0.9700\n",
      "Epoch 90/100\n",
      "100/100 [==============================] - 0s 100us/step - loss: 0.3765 - acc: 0.9600\n",
      "Epoch 91/100\n",
      "100/100 [==============================] - 0s 90us/step - loss: 0.3671 - acc: 0.9700\n",
      "Epoch 92/100\n",
      "100/100 [==============================] - 0s 90us/step - loss: 0.3664 - acc: 0.9700\n",
      "Epoch 93/100\n",
      "100/100 [==============================] - 0s 100us/step - loss: 0.3589 - acc: 0.9700\n",
      "Epoch 94/100\n",
      "100/100 [==============================] - 0s 90us/step - loss: 0.3568 - acc: 0.9600\n",
      "Epoch 95/100\n",
      "100/100 [==============================] - 0s 90us/step - loss: 0.3491 - acc: 0.9700\n",
      "Epoch 96/100\n",
      "100/100 [==============================] - 0s 80us/step - loss: 0.3469 - acc: 0.9700\n",
      "Epoch 97/100\n",
      "100/100 [==============================] - 0s 90us/step - loss: 0.3431 - acc: 0.9700\n",
      "Epoch 98/100\n",
      "100/100 [==============================] - 0s 100us/step - loss: 0.3373 - acc: 0.9700\n",
      "Epoch 99/100\n",
      "100/100 [==============================] - 0s 70us/step - loss: 0.3343 - acc: 0.9700\n",
      "Epoch 100/100\n",
      "100/100 [==============================] - 0s 100us/step - loss: 0.3334 - acc: 0.9700\n"
     ]
    },
    {
     "data": {
      "text/plain": [
       "<keras.callbacks.History at 0x327b35c0>"
      ]
     },
     "execution_count": 477,
     "metadata": {},
     "output_type": "execute_result"
    }
   ],
   "source": [
    "model.fit(x_values, y_values, batch_size=10, epochs=100)"
   ]
  },
  {
   "cell_type": "code",
   "execution_count": 480,
   "metadata": {},
   "outputs": [
    {
     "name": "stdout",
     "output_type": "stream",
     "text": [
      "50/50 [==============================] - 0s 120us/step\n",
      "[Loss: 0.3324, Acc: 0.9800]\n"
     ]
    }
   ],
   "source": [
    "loss, acc = model.evaluate(x_test_, y_test_)\n",
    "print(\"[Loss: %.4f, Acc: %.4f]\" % (loss, acc))"
   ]
  },
  {
   "cell_type": "code",
   "execution_count": 483,
   "metadata": {},
   "outputs": [],
   "source": [
    "predictions = model.predict(x_test_)"
   ]
  },
  {
   "cell_type": "code",
   "execution_count": 491,
   "metadata": {},
   "outputs": [
    {
     "name": "stdout",
     "output_type": "stream",
     "text": [
      "[Pred: 2, GT: 2]\n"
     ]
    }
   ],
   "source": [
    "n = random.randint(0, len(x_test_)-1)\n",
    "print(\"[Pred: %d, GT: %d]\" % (np.argmax(predictions[n]), np.argmax(y_test_[n])))"
   ]
  },
  {
   "cell_type": "markdown",
   "metadata": {},
   "source": [
    "### 6. Support Vector Machine"
   ]
  },
  {
   "cell_type": "code",
   "execution_count": 492,
   "metadata": {},
   "outputs": [],
   "source": [
    "from sklearn.svm import SVC"
   ]
  },
  {
   "cell_type": "code",
   "execution_count": 493,
   "metadata": {},
   "outputs": [
    {
     "name": "stderr",
     "output_type": "stream",
     "text": [
      "C:\\ProgramData\\Anaconda3\\envs\\new_ml\\lib\\site-packages\\sklearn\\svm\\base.py:193: FutureWarning: The default value of gamma will change from 'auto' to 'scale' in version 0.22 to account better for unscaled features. Set gamma explicitly to 'auto' or 'scale' to avoid this warning.\n",
      "  \"avoid this warning.\", FutureWarning)\n"
     ]
    }
   ],
   "source": [
    "model = SVC(kernel='rbf', C=1e10).fit(x_train, y_train)"
   ]
  },
  {
   "cell_type": "code",
   "execution_count": 501,
   "metadata": {},
   "outputs": [],
   "source": [
    "y_pred = model.predict(x_test)"
   ]
  },
  {
   "cell_type": "code",
   "execution_count": 502,
   "metadata": {},
   "outputs": [
    {
     "name": "stdout",
     "output_type": "stream",
     "text": [
      "[[19  0  0]\n",
      " [ 0 14  1]\n",
      " [ 0  1 15]]\n",
      "0.96\n"
     ]
    }
   ],
   "source": [
    "print(confusion_matrix(y_test, y_pred))\n",
    "print(accuracy_score(y_test, y_pred, normalize=True))"
   ]
  },
  {
   "cell_type": "markdown",
   "metadata": {},
   "source": [
    "### 7. Random Forest"
   ]
  },
  {
   "cell_type": "code",
   "execution_count": 503,
   "metadata": {},
   "outputs": [],
   "source": [
    "from sklearn.ensemble import RandomForestClassifier"
   ]
  },
  {
   "cell_type": "code",
   "execution_count": 507,
   "metadata": {},
   "outputs": [
    {
     "data": {
      "text/plain": [
       "RandomForestClassifier(bootstrap=True, class_weight=None, criterion='gini',\n",
       "                       max_depth=None, max_features='auto', max_leaf_nodes=None,\n",
       "                       min_impurity_decrease=0.0, min_impurity_split=None,\n",
       "                       min_samples_leaf=1, min_samples_split=2,\n",
       "                       min_weight_fraction_leaf=0.0, n_estimators=500,\n",
       "                       n_jobs=None, oob_score=True, random_state=123456,\n",
       "                       verbose=0, warm_start=False)"
      ]
     },
     "execution_count": 507,
     "metadata": {},
     "output_type": "execute_result"
    }
   ],
   "source": [
    "rf = RandomForestClassifier(n_estimators=500, oob_score=True, random_state=123456)\n",
    "rf.fit(x_train, y_train)"
   ]
  },
  {
   "cell_type": "code",
   "execution_count": 508,
   "metadata": {},
   "outputs": [],
   "source": [
    "y_pred = rf.predict(x_test)"
   ]
  },
  {
   "cell_type": "code",
   "execution_count": 509,
   "metadata": {},
   "outputs": [
    {
     "name": "stdout",
     "output_type": "stream",
     "text": [
      "[[19  0  0]\n",
      " [ 0 15  0]\n",
      " [ 0  1 15]]\n",
      "0.98\n"
     ]
    }
   ],
   "source": [
    "print(confusion_matrix(y_test, y_pred))\n",
    "print(accuracy_score(y_test, y_pred, normalize=True))"
   ]
  },
  {
   "cell_type": "code",
   "execution_count": null,
   "metadata": {},
   "outputs": [],
   "source": []
  }
 ],
 "metadata": {
  "kernelspec": {
   "display_name": "new_ML",
   "language": "python",
   "name": "new_ml"
  },
  "language_info": {
   "codemirror_mode": {
    "name": "ipython",
    "version": 3
   },
   "file_extension": ".py",
   "mimetype": "text/x-python",
   "name": "python",
   "nbconvert_exporter": "python",
   "pygments_lexer": "ipython3",
   "version": "3.6.9"
  }
 },
 "nbformat": 4,
 "nbformat_minor": 2
}
