{
 "cells": [
  {
   "cell_type": "markdown",
   "metadata": {},
   "source": [
    "# NumPy \n",
    "## 1. NumPy 개요\n",
    "#### 1.1 파이썬 과학 패키지\n",
    "\n",
    "• Numerical Python <br>\n",
    "• 파이썬의 고성능 과학 계산용 패키지 <br>\n",
    "• Matrix와 Vector와 같은 Array 연산의 사실상의 표준 <br>\n",
    "\n",
    "#### 1.2 특징\n",
    "\n",
    "일반 List에 비해 빠르고, 메모리를 효율적으로 사용 <br>\n",
    "• 반복문 없이 데이터 배열에 대한 처리를 지원함 <br>\n",
    "• 선형대수와 관련된 다양한 기능을 제공함 <br>\n",
    "• C, C++ 등의 언어와 통합 가능 <br>\n",
    "\n",
    "#### 1.3 References\n",
    "\n",
    "• https://docs.scipy.org/doc/numpy/user/quickstart.html <br>\n",
    "• 데이터 사이언스 스쿨 (데이터 과학을 위한 파이썬 기초) <br>\n",
    "• https://datascienceschool.net/view-notebook/39569f0132044097a15943bd8f440ca5 <br>\n",
    "• Numpy 강좌 https://www.youtube.com/playlist?list=PLBHVuYlKEkULZLnKLzRq1CnNBOBlBTkqp <br>\n",
    "\n",
    "## 2. ndarray(NumPy Demensional Array)"
   ]
  },
  {
   "cell_type": "markdown",
   "metadata": {},
   "source": [
    "#### 2.1 import"
   ]
  },
  {
   "cell_type": "code",
   "execution_count": 2,
   "metadata": {},
   "outputs": [],
   "source": [
    "import numpy as np"
   ]
  },
  {
   "cell_type": "markdown",
   "metadata": {},
   "source": [
    "#### 2.2 Array 생성"
   ]
  },
  {
   "cell_type": "code",
   "execution_count": 3,
   "metadata": {},
   "outputs": [
    {
     "name": "stdout",
     "output_type": "stream",
     "text": [
      "[1. 4. 5. 8.]\n"
     ]
    }
   ],
   "source": [
    "test_array = np.array([1, 4, 5, 8], float)\n",
    "print(test_array)"
   ]
  },
  {
   "cell_type": "code",
   "execution_count": 4,
   "metadata": {},
   "outputs": [
    {
     "data": {
      "text/plain": [
       "numpy.float64"
      ]
     },
     "execution_count": 4,
     "metadata": {},
     "output_type": "execute_result"
    }
   ],
   "source": [
    "type(test_array[3])"
   ]
  },
  {
   "cell_type": "code",
   "execution_count": 5,
   "metadata": {},
   "outputs": [
    {
     "name": "stdout",
     "output_type": "stream",
     "text": [
      "float64\n",
      "(4,)\n"
     ]
    }
   ],
   "source": [
    "print(test_array.dtype) # Array 전체의 데이터 타입을 반환함\n",
    "print(test_array.shape) # Array의 shape(차원 구성)을 반환함"
   ]
  },
  {
   "cell_type": "markdown",
   "metadata": {},
   "source": [
    "• numpy는 np.array 함수를 활용하여 배열을 생성함  ndarray <br>\n",
    "• numpy는 하나의 데이터 타입만 배열에 넣을 수 있음  <br>\n",
    "• List와 가장 큰 차이점, Dynamic typing(예, [1, 2, “5”, 4.2]) not supported  <br>\n",
    "• C의 Array를 사용하여 배열을 생성함"
   ]
  },
  {
   "cell_type": "markdown",
   "metadata": {},
   "source": [
    "## 3. Array shape"
   ]
  },
  {
   "cell_type": "markdown",
   "metadata": {},
   "source": [
    "#### 3.1 Vector (1차원)"
   ]
  },
  {
   "cell_type": "code",
   "execution_count": 8,
   "metadata": {},
   "outputs": [
    {
     "name": "stdout",
     "output_type": "stream",
     "text": [
      "(4,)\n"
     ]
    }
   ],
   "source": [
    "test_array = np.array([1, 4, 5, 8], float)\n",
    "print(test_array.shape)"
   ]
  },
  {
   "cell_type": "markdown",
   "metadata": {},
   "source": [
    "shape은 (4, ) : 1차원에 4개의 element가 있는 벡터"
   ]
  },
  {
   "cell_type": "markdown",
   "metadata": {},
   "source": [
    "#### 3.2 Matrix (2차원)"
   ]
  },
  {
   "cell_type": "code",
   "execution_count": 9,
   "metadata": {},
   "outputs": [
    {
     "data": {
      "text/plain": [
       "(3, 4)"
      ]
     },
     "execution_count": 9,
     "metadata": {},
     "output_type": "execute_result"
    }
   ],
   "source": [
    "matrix = [[1,2,5,8], [2,3,4,9], [4,5,6,7]]\n",
    "np.array(matrix, int).shape"
   ]
  },
  {
   "cell_type": "markdown",
   "metadata": {},
   "source": [
    "shape은 (3, 4) : 행이 3개, 열이 4개인 매트릭스"
   ]
  },
  {
   "cell_type": "markdown",
   "metadata": {},
   "source": [
    "#### 3.3 Tensor (3차원)"
   ]
  },
  {
   "cell_type": "code",
   "execution_count": 11,
   "metadata": {},
   "outputs": [
    {
     "data": {
      "text/plain": [
       "(4, 3, 4)"
      ]
     },
     "execution_count": 11,
     "metadata": {},
     "output_type": "execute_result"
    }
   ],
   "source": [
    "tensor = [[[1,2,5,8], [2,3,4,9], [4,5,6,7]],\n",
    " [[1,2,5,8], [2,3,4,9], [4,5,6,7]],\n",
    " [[1,2,5,8], [2,3,4,9], [4,5,6,7]],\n",
    " [[1,2,5,8], [2,3,4,9], [4,5,6,7]]]\n",
    "np.array(tensor, int).shape"
   ]
  },
  {
   "cell_type": "markdown",
   "metadata": {},
   "source": [
    "shape은 (4, 3, 4) : 평면이 4개, 행이 3개, 열이 4개인 텐서"
   ]
  },
  {
   "cell_type": "code",
   "execution_count": null,
   "metadata": {},
   "outputs": [],
   "source": []
  }
 ],
 "metadata": {
  "kernelspec": {
   "display_name": "Python 3",
   "language": "python",
   "name": "python3"
  },
  "language_info": {
   "codemirror_mode": {
    "name": "ipython",
    "version": 3
   },
   "file_extension": ".py",
   "mimetype": "text/x-python",
   "name": "python",
   "nbconvert_exporter": "python",
   "pygments_lexer": "ipython3",
   "version": "3.7.3"
  }
 },
 "nbformat": 4,
 "nbformat_minor": 2
}
