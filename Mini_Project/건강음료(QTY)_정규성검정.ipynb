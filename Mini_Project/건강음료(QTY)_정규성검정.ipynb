{
 "cells": [
  {
   "cell_type": "markdown",
   "metadata": {},
   "source": [
    "## 건강음료 QTY 정규성 검정"
   ]
  },
  {
   "cell_type": "markdown",
   "metadata": {},
   "source": [
    "#### Dependency"
   ]
  },
  {
   "cell_type": "code",
   "execution_count": 1,
   "metadata": {},
   "outputs": [],
   "source": [
    "import pandas as pd\n",
    "from scipy import stats"
   ]
  },
  {
   "cell_type": "markdown",
   "metadata": {},
   "source": [
    "#### Load dataset"
   ]
  },
  {
   "cell_type": "code",
   "execution_count": 2,
   "metadata": {},
   "outputs": [
    {
     "data": {
      "text/html": [
       "<div>\n",
       "<style scoped>\n",
       "    .dataframe tbody tr th:only-of-type {\n",
       "        vertical-align: middle;\n",
       "    }\n",
       "\n",
       "    .dataframe tbody tr th {\n",
       "        vertical-align: top;\n",
       "    }\n",
       "\n",
       "    .dataframe thead th {\n",
       "        text-align: right;\n",
       "    }\n",
       "</style>\n",
       "<table border=\"1\" class=\"dataframe\">\n",
       "  <thead>\n",
       "    <tr style=\"text-align: right;\">\n",
       "      <th></th>\n",
       "      <th>YM</th>\n",
       "      <th>CATEGORY</th>\n",
       "      <th>ITEM_CNT</th>\n",
       "      <th>QTY</th>\n",
       "      <th>PRICE</th>\n",
       "      <th>MAXTEMP</th>\n",
       "      <th>SALEDAY</th>\n",
       "      <th>RAIN_DAY</th>\n",
       "      <th>HOLIDAY</th>\n",
       "    </tr>\n",
       "  </thead>\n",
       "  <tbody>\n",
       "    <tr>\n",
       "      <th>0</th>\n",
       "      <td>200901</td>\n",
       "      <td>건강음료</td>\n",
       "      <td>37</td>\n",
       "      <td>1410</td>\n",
       "      <td>1543</td>\n",
       "      <td>4</td>\n",
       "      <td>126753</td>\n",
       "      <td>151</td>\n",
       "      <td>12</td>\n",
       "    </tr>\n",
       "    <tr>\n",
       "      <th>1</th>\n",
       "      <td>200902</td>\n",
       "      <td>건강음료</td>\n",
       "      <td>37</td>\n",
       "      <td>1209</td>\n",
       "      <td>1543</td>\n",
       "      <td>9</td>\n",
       "      <td>113399</td>\n",
       "      <td>3014</td>\n",
       "      <td>8</td>\n",
       "    </tr>\n",
       "    <tr>\n",
       "      <th>2</th>\n",
       "      <td>200903</td>\n",
       "      <td>건강음료</td>\n",
       "      <td>38</td>\n",
       "      <td>1348</td>\n",
       "      <td>1547</td>\n",
       "      <td>12</td>\n",
       "      <td>129162</td>\n",
       "      <td>1383</td>\n",
       "      <td>9</td>\n",
       "    </tr>\n",
       "    <tr>\n",
       "      <th>3</th>\n",
       "      <td>200904</td>\n",
       "      <td>건강음료</td>\n",
       "      <td>38</td>\n",
       "      <td>1377</td>\n",
       "      <td>1500</td>\n",
       "      <td>19</td>\n",
       "      <td>126277</td>\n",
       "      <td>3564</td>\n",
       "      <td>8</td>\n",
       "    </tr>\n",
       "    <tr>\n",
       "      <th>4</th>\n",
       "      <td>200905</td>\n",
       "      <td>건강음료</td>\n",
       "      <td>40</td>\n",
       "      <td>1406</td>\n",
       "      <td>1528</td>\n",
       "      <td>25</td>\n",
       "      <td>129584</td>\n",
       "      <td>9288</td>\n",
       "      <td>12</td>\n",
       "    </tr>\n",
       "  </tbody>\n",
       "</table>\n",
       "</div>"
      ],
      "text/plain": [
       "       YM CATEGORY  ITEM_CNT   QTY  PRICE  MAXTEMP  SALEDAY  RAIN_DAY  HOLIDAY\n",
       "0  200901     건강음료        37  1410   1543        4   126753       151       12\n",
       "1  200902     건강음료        37  1209   1543        9   113399      3014        8\n",
       "2  200903     건강음료        38  1348   1547       12   129162      1383        9\n",
       "3  200904     건강음료        38  1377   1500       19   126277      3564        8\n",
       "4  200905     건강음료        40  1406   1528       25   129584      9288       12"
      ]
     },
     "execution_count": 2,
     "metadata": {},
     "output_type": "execute_result"
    }
   ],
   "source": [
    "df= pd.read_csv('data/sales.csv', engine='python')\n",
    "df = df.iloc[:,:9]\n",
    "df.head()"
   ]
  },
  {
   "cell_type": "markdown",
   "metadata": {},
   "source": [
    "#### Filtering category"
   ]
  },
  {
   "cell_type": "code",
   "execution_count": 3,
   "metadata": {},
   "outputs": [
    {
     "data": {
      "text/html": [
       "<div>\n",
       "<style scoped>\n",
       "    .dataframe tbody tr th:only-of-type {\n",
       "        vertical-align: middle;\n",
       "    }\n",
       "\n",
       "    .dataframe tbody tr th {\n",
       "        vertical-align: top;\n",
       "    }\n",
       "\n",
       "    .dataframe thead th {\n",
       "        text-align: right;\n",
       "    }\n",
       "</style>\n",
       "<table border=\"1\" class=\"dataframe\">\n",
       "  <thead>\n",
       "    <tr style=\"text-align: right;\">\n",
       "      <th></th>\n",
       "      <th>YM</th>\n",
       "      <th>CATEGORY</th>\n",
       "      <th>ITEM_CNT</th>\n",
       "      <th>QTY</th>\n",
       "      <th>PRICE</th>\n",
       "      <th>MAXTEMP</th>\n",
       "      <th>SALEDAY</th>\n",
       "      <th>RAIN_DAY</th>\n",
       "      <th>HOLIDAY</th>\n",
       "    </tr>\n",
       "  </thead>\n",
       "  <tbody>\n",
       "    <tr>\n",
       "      <th>0</th>\n",
       "      <td>200901</td>\n",
       "      <td>건강음료</td>\n",
       "      <td>37</td>\n",
       "      <td>1410</td>\n",
       "      <td>1543</td>\n",
       "      <td>4</td>\n",
       "      <td>126753</td>\n",
       "      <td>151</td>\n",
       "      <td>12</td>\n",
       "    </tr>\n",
       "    <tr>\n",
       "      <th>1</th>\n",
       "      <td>200902</td>\n",
       "      <td>건강음료</td>\n",
       "      <td>37</td>\n",
       "      <td>1209</td>\n",
       "      <td>1543</td>\n",
       "      <td>9</td>\n",
       "      <td>113399</td>\n",
       "      <td>3014</td>\n",
       "      <td>8</td>\n",
       "    </tr>\n",
       "    <tr>\n",
       "      <th>2</th>\n",
       "      <td>200903</td>\n",
       "      <td>건강음료</td>\n",
       "      <td>38</td>\n",
       "      <td>1348</td>\n",
       "      <td>1547</td>\n",
       "      <td>12</td>\n",
       "      <td>129162</td>\n",
       "      <td>1383</td>\n",
       "      <td>9</td>\n",
       "    </tr>\n",
       "    <tr>\n",
       "      <th>3</th>\n",
       "      <td>200904</td>\n",
       "      <td>건강음료</td>\n",
       "      <td>38</td>\n",
       "      <td>1377</td>\n",
       "      <td>1500</td>\n",
       "      <td>19</td>\n",
       "      <td>126277</td>\n",
       "      <td>3564</td>\n",
       "      <td>8</td>\n",
       "    </tr>\n",
       "    <tr>\n",
       "      <th>4</th>\n",
       "      <td>200905</td>\n",
       "      <td>건강음료</td>\n",
       "      <td>40</td>\n",
       "      <td>1406</td>\n",
       "      <td>1528</td>\n",
       "      <td>25</td>\n",
       "      <td>129584</td>\n",
       "      <td>9288</td>\n",
       "      <td>12</td>\n",
       "    </tr>\n",
       "  </tbody>\n",
       "</table>\n",
       "</div>"
      ],
      "text/plain": [
       "       YM CATEGORY  ITEM_CNT   QTY  PRICE  MAXTEMP  SALEDAY  RAIN_DAY  HOLIDAY\n",
       "0  200901     건강음료        37  1410   1543        4   126753       151       12\n",
       "1  200902     건강음료        37  1209   1543        9   113399      3014        8\n",
       "2  200903     건강음료        38  1348   1547       12   129162      1383        9\n",
       "3  200904     건강음료        38  1377   1500       19   126277      3564        8\n",
       "4  200905     건강음료        40  1406   1528       25   129584      9288       12"
      ]
     },
     "execution_count": 3,
     "metadata": {},
     "output_type": "execute_result"
    }
   ],
   "source": [
    "df2 = df[df.CATEGORY == '건강음료']\n",
    "df2.head()"
   ]
  },
  {
   "cell_type": "markdown",
   "metadata": {},
   "source": [
    "#### Save dataset"
   ]
  },
  {
   "cell_type": "code",
   "execution_count": 7,
   "metadata": {},
   "outputs": [],
   "source": [
    "df2.to_csv('data/sales_건강음료.csv', mode='w', index=False, encoding='euc-kr')"
   ]
  },
  {
   "cell_type": "markdown",
   "metadata": {},
   "source": [
    "#### Dependent variable(QTY) - Normality Test"
   ]
  },
  {
   "cell_type": "code",
   "execution_count": 30,
   "metadata": {},
   "outputs": [],
   "source": [
    "y = df.QTY"
   ]
  },
  {
   "cell_type": "code",
   "execution_count": 32,
   "metadata": {},
   "outputs": [
    {
     "name": "stdout",
     "output_type": "stream",
     "text": [
      "[Weight: 0.8792, P-value: 0.0000\n"
     ]
    }
   ],
   "source": [
    "w, p = stats.shapiro(y)\n",
    "print(\"[Weight: %.4f, P-value: %.4f\" % (w, p))"
   ]
  },
  {
   "cell_type": "code",
   "execution_count": null,
   "metadata": {},
   "outputs": [],
   "source": []
  }
 ],
 "metadata": {
  "kernelspec": {
   "display_name": "Python 3",
   "language": "python",
   "name": "python3"
  },
  "language_info": {
   "codemirror_mode": {
    "name": "ipython",
    "version": 3
   },
   "file_extension": ".py",
   "mimetype": "text/x-python",
   "name": "python",
   "nbconvert_exporter": "python",
   "pygments_lexer": "ipython3",
   "version": "3.7.3"
  }
 },
 "nbformat": 4,
 "nbformat_minor": 2
}
