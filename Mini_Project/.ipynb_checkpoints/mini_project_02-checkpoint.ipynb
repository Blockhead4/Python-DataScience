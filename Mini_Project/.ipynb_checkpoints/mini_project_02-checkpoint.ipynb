{
 "cells": [
  {
   "cell_type": "markdown",
   "metadata": {},
   "source": [
    "## Mini Project 02"
   ]
  },
  {
   "cell_type": "markdown",
   "metadata": {},
   "source": [
    "### Cifar10"
   ]
  },
  {
   "cell_type": "markdown",
   "metadata": {},
   "source": [
    "#### Dependency"
   ]
  },
  {
   "cell_type": "code",
   "execution_count": 1,
   "metadata": {
    "_cell_guid": "b1076dfc-b9ad-4769-8c92-a6c4dae69d19",
    "_uuid": "8f2839f25d086af736a60e9eeb907d3b93b6e0e5"
   },
   "outputs": [
    {
     "name": "stderr",
     "output_type": "stream",
     "text": [
      "Using TensorFlow backend.\n"
     ]
    }
   ],
   "source": [
    "from keras.datasets import cifar10, cifar100\n",
    "from keras.models import Sequential\n",
    "from keras.layers import Conv2D, Flatten, Dense, MaxPooling2D\n",
    "from keras.layers import Dropout, BatchNormalization, Activation\n",
    "from keras.layers.advanced_activations import LeakyReLU\n",
    "from keras.optimizers import Adam\n",
    "from keras.utils import np_utils, to_categorical\n",
    "\n",
    "import matplotlib.pyplot as plt\n",
    "import numpy as np\n",
    "import os, cv2\n",
    "import random"
   ]
  },
  {
   "cell_type": "markdown",
   "metadata": {},
   "source": [
    "#### Load data"
   ]
  },
  {
   "cell_type": "code",
   "execution_count": 2,
   "metadata": {
    "_cell_guid": "79c7e3d0-c299-4dcb-8224-4455121ee9b0",
    "_uuid": "d629ff2d2480ee46fbb7e2d37f6b5fab8052498a"
   },
   "outputs": [],
   "source": [
    "(X_train, y_train), (X_test, y_test) = cifar10.load_data()"
   ]
  },
  {
   "cell_type": "markdown",
   "metadata": {},
   "source": [
    "#### Preview data"
   ]
  },
  {
   "cell_type": "code",
   "execution_count": 3,
   "metadata": {},
   "outputs": [
    {
     "data": {
      "text/plain": [
       "<matplotlib.image.AxesImage at 0x1785a940>"
      ]
     },
     "execution_count": 3,
     "metadata": {},
     "output_type": "execute_result"
    },
    {
     "data": {
      "image/png": "[encoded data removed]",
      "text/plain": [
       "<Figure size 432x288 with 1 Axes>"
      ]
     },
     "metadata": {
      "needs_background": "light"
     },
     "output_type": "display_data"
    }
   ],
   "source": [
    "plt.imshow(X_test[1])"
   ]
  },
  {
   "cell_type": "markdown",
   "metadata": {},
   "source": [
    "#### Input normalization"
   ]
  },
  {
   "cell_type": "code",
   "execution_count": 3,
   "metadata": {},
   "outputs": [],
   "source": [
    "X_train = X_train / 255.0\n",
    "X_test = X_test / 255.0"
   ]
  },
  {
   "cell_type": "markdown",
   "metadata": {},
   "source": [
    "#### Model"
   ]
  },
  {
   "cell_type": "code",
   "execution_count": 82,
   "metadata": {},
   "outputs": [
    {
     "name": "stdout",
     "output_type": "stream",
     "text": [
      "_________________________________________________________________\n",
      "Layer (type)                 Output Shape              Param #   \n",
      "=================================================================\n",
      "conv2d_63 (Conv2D)           (None, 32, 32, 128)       9728      \n",
      "_________________________________________________________________\n",
      "batch_normalization_45 (Batc (None, 32, 32, 128)       512       \n",
      "_________________________________________________________________\n",
      "leaky_re_lu_71 (LeakyReLU)   (None, 32, 32, 128)       0         \n",
      "_________________________________________________________________\n",
      "max_pooling2d_63 (MaxPooling (None, 16, 16, 128)       0         \n",
      "_________________________________________________________________\n",
      "dropout_73 (Dropout)         (None, 16, 16, 128)       0         \n",
      "_________________________________________________________________\n",
      "conv2d_64 (Conv2D)           (None, 16, 16, 256)       819456    \n",
      "_________________________________________________________________\n",
      "batch_normalization_46 (Batc (None, 16, 16, 256)       1024      \n",
      "_________________________________________________________________\n",
      "leaky_re_lu_72 (LeakyReLU)   (None, 16, 16, 256)       0         \n",
      "_________________________________________________________________\n",
      "max_pooling2d_64 (MaxPooling (None, 8, 8, 256)         0         \n",
      "_________________________________________________________________\n",
      "dropout_74 (Dropout)         (None, 8, 8, 256)         0         \n",
      "_________________________________________________________________\n",
      "conv2d_65 (Conv2D)           (None, 8, 8, 128)         819328    \n",
      "_________________________________________________________________\n",
      "batch_normalization_47 (Batc (None, 8, 8, 128)         512       \n",
      "_________________________________________________________________\n",
      "leaky_re_lu_73 (LeakyReLU)   (None, 8, 8, 128)         0         \n",
      "_________________________________________________________________\n",
      "max_pooling2d_65 (MaxPooling (None, 4, 4, 128)         0         \n",
      "_________________________________________________________________\n",
      "dropout_75 (Dropout)         (None, 4, 4, 128)         0         \n",
      "_________________________________________________________________\n",
      "conv2d_66 (Conv2D)           (None, 4, 4, 64)          204864    \n",
      "_________________________________________________________________\n",
      "batch_normalization_48 (Batc (None, 4, 4, 64)          256       \n",
      "_________________________________________________________________\n",
      "leaky_re_lu_74 (LeakyReLU)   (None, 4, 4, 64)          0         \n",
      "_________________________________________________________________\n",
      "max_pooling2d_66 (MaxPooling (None, 2, 2, 64)          0         \n",
      "_________________________________________________________________\n",
      "dropout_76 (Dropout)         (None, 2, 2, 64)          0         \n",
      "_________________________________________________________________\n",
      "flatten_18 (Flatten)         (None, 256)               0         \n",
      "_________________________________________________________________\n",
      "dense_38 (Dense)             (None, 64)                16448     \n",
      "_________________________________________________________________\n",
      "batch_normalization_49 (Batc (None, 64)                256       \n",
      "_________________________________________________________________\n",
      "leaky_re_lu_75 (LeakyReLU)   (None, 64)                0         \n",
      "_________________________________________________________________\n",
      "dropout_77 (Dropout)         (None, 64)                0         \n",
      "_________________________________________________________________\n",
      "dense_39 (Dense)             (None, 32)                2080      \n",
      "_________________________________________________________________\n",
      "batch_normalization_50 (Batc (None, 32)                128       \n",
      "_________________________________________________________________\n",
      "leaky_re_lu_76 (LeakyReLU)   (None, 32)                0         \n",
      "_________________________________________________________________\n",
      "dropout_78 (Dropout)         (None, 32)                0         \n",
      "_________________________________________________________________\n",
      "dense_40 (Dense)             (None, 10)                330       \n",
      "=================================================================\n",
      "Total params: 1,874,922\n",
      "Trainable params: 1,873,578\n",
      "Non-trainable params: 1,344\n",
      "_________________________________________________________________\n"
     ]
    }
   ],
   "source": [
    "model = Sequential()\n",
    "\n",
    "model.add(Conv2D(128, (5,5), input_shape=X_train.shape[1:], padding='same'))\n",
    "model.add(BatchNormalization(momentum=0.8))\n",
    "model.add(LeakyReLU(alpha=0.2))\n",
    "model.add(MaxPooling2D(pool_size=(2,2)))\n",
    "model.add(Dropout(0.3))\n",
    "\n",
    "model.add(Conv2D(256, (5,5), padding='same'))\n",
    "model.add(BatchNormalization(momentum=0.8))\n",
    "model.add(LeakyReLU(alpha=0.2))\n",
    "model.add(MaxPooling2D(pool_size=(2,2)))\n",
    "model.add(Dropout(0.3))\n",
    "\n",
    "model.add(Conv2D(128, (5,5), padding='same'))\n",
    "model.add(BatchNormalization(momentum=0.8))\n",
    "model.add(LeakyReLU(alpha=0.2))\n",
    "model.add(MaxPooling2D(pool_size=(2,2)))\n",
    "model.add(Dropout(0.3))\n",
    "\n",
    "model.add(Conv2D(64, (5,5), padding='same'))\n",
    "model.add(BatchNormalization(momentum=0.8))\n",
    "model.add(LeakyReLU(alpha=0.2))\n",
    "model.add(MaxPooling2D(pool_size=(2,2)))\n",
    "model.add(Dropout(0.3))\n",
    "\n",
    "model.add(Flatten())\n",
    "model.add(Dense(64))\n",
    "model.add(BatchNormalization(momentum=0.8))\n",
    "model.add(LeakyReLU(alpha=0.2))\n",
    "model.add(Dropout(0.3))\n",
    "\n",
    "model.add(Dense(32))\n",
    "model.add(BatchNormalization(momentum=0.8))\n",
    "model.add(LeakyReLU(alpha=0.2))\n",
    "model.add(Dropout(0.3))\n",
    "          \n",
    "model.add(Dense(10, activation='softmax'))\n",
    "model.summary()\n",
    "\n",
    "model.compile(loss='sparse_categorical_crossentropy',\n",
    "             optimizer=Adam(0.0002, 0.5),\n",
    "             metrics=['accuracy'])"
   ]
  },
  {
   "cell_type": "markdown",
   "metadata": {},
   "source": [
    "#### Training"
   ]
  },
  {
   "cell_type": "code",
   "execution_count": 35,
   "metadata": {},
   "outputs": [
    {
     "name": "stdout",
     "output_type": "stream",
     "text": [
      "Train on 50000 samples, validate on 10000 samples\n",
      "Epoch 1/20\n",
      "50000/50000 [==============================] - 18s 363us/step - loss: 1.9897 - acc: 0.2879 - val_loss: 1.5968 - val_acc: 0.4228\n",
      "Epoch 2/20\n",
      "50000/50000 [==============================] - 14s 282us/step - loss: 1.6078 - acc: 0.4186 - val_loss: 1.5185 - val_acc: 0.4655\n",
      "Epoch 3/20\n",
      "50000/50000 [==============================] - 14s 282us/step - loss: 1.4140 - acc: 0.4949 - val_loss: 1.2094 - val_acc: 0.5816\n",
      "Epoch 4/20\n",
      "50000/50000 [==============================] - 14s 284us/step - loss: 1.2911 - acc: 0.5413 - val_loss: 2.0165 - val_acc: 0.3591\n",
      "Epoch 5/20\n",
      "50000/50000 [==============================] - 14s 283us/step - loss: 1.1928 - acc: 0.5821 - val_loss: 1.4695 - val_acc: 0.4934\n",
      "Epoch 6/20\n",
      "50000/50000 [==============================] - 14s 283us/step - loss: 1.1145 - acc: 0.6147 - val_loss: 0.9895 - val_acc: 0.6593\n",
      "Epoch 7/20\n",
      "50000/50000 [==============================] - 14s 282us/step - loss: 1.0562 - acc: 0.6375 - val_loss: 1.5207 - val_acc: 0.4991\n",
      "Epoch 8/20\n",
      "50000/50000 [==============================] - 14s 283us/step - loss: 1.0003 - acc: 0.6553 - val_loss: 1.0667 - val_acc: 0.6263\n",
      "Epoch 9/20\n",
      "50000/50000 [==============================] - 14s 284us/step - loss: 0.9537 - acc: 0.6772 - val_loss: 1.3222 - val_acc: 0.5489\n",
      "Epoch 10/20\n",
      "50000/50000 [==============================] - 14s 284us/step - loss: 0.9191 - acc: 0.6871 - val_loss: 0.8562 - val_acc: 0.7013\n",
      "Epoch 11/20\n",
      "50000/50000 [==============================] - 14s 284us/step - loss: 0.8766 - acc: 0.7059 - val_loss: 0.8708 - val_acc: 0.7090\n",
      "Epoch 12/20\n",
      "50000/50000 [==============================] - 14s 285us/step - loss: 0.8376 - acc: 0.7177 - val_loss: 0.7901 - val_acc: 0.7279\n",
      "Epoch 13/20\n",
      "50000/50000 [==============================] - 14s 285us/step - loss: 0.8130 - acc: 0.7268 - val_loss: 0.7399 - val_acc: 0.7484\n",
      "Epoch 14/20\n",
      "50000/50000 [==============================] - 15s 293us/step - loss: 0.7825 - acc: 0.7378 - val_loss: 1.1619 - val_acc: 0.6288\n",
      "Epoch 15/20\n",
      "50000/50000 [==============================] - 14s 284us/step - loss: 0.7614 - acc: 0.7465 - val_loss: 0.7436 - val_acc: 0.7422\n",
      "Epoch 16/20\n",
      "50000/50000 [==============================] - 14s 284us/step - loss: 0.7380 - acc: 0.7536 - val_loss: 0.6882 - val_acc: 0.7664\n",
      "Epoch 17/20\n",
      "50000/50000 [==============================] - 14s 285us/step - loss: 0.7086 - acc: 0.7641 - val_loss: 0.7571 - val_acc: 0.7430\n",
      "Epoch 18/20\n",
      "50000/50000 [==============================] - 14s 283us/step - loss: 0.6942 - acc: 0.7695 - val_loss: 0.7150 - val_acc: 0.7587\n",
      "Epoch 19/20\n",
      "50000/50000 [==============================] - 14s 287us/step - loss: 0.6684 - acc: 0.7804 - val_loss: 0.7301 - val_acc: 0.7502\n",
      "Epoch 20/20\n",
      "50000/50000 [==============================] - 14s 284us/step - loss: 0.6538 - acc: 0.7829 - val_loss: 0.8362 - val_acc: 0.7222\n"
     ]
    },
    {
     "data": {
      "text/plain": [
       "<keras.callbacks.History at 0x7fb3ff9ed978>"
      ]
     },
     "execution_count": 35,
     "metadata": {},
     "output_type": "execute_result"
    }
   ],
   "source": [
    "model.fit(X_train, y_train, batch_size=128, epochs=20, validation_data=(X_test, y_test))"
   ]
  },
  {
   "cell_type": "code",
   "execution_count": 36,
   "metadata": {},
   "outputs": [
    {
     "name": "stdout",
     "output_type": "stream",
     "text": [
      "Train on 50000 samples, validate on 10000 samples\n",
      "Epoch 1/20\n",
      "50000/50000 [==============================] - 14s 285us/step - loss: 0.6397 - acc: 0.7881 - val_loss: 0.5963 - val_acc: 0.7963\n",
      "Epoch 2/20\n",
      "50000/50000 [==============================] - 14s 284us/step - loss: 0.6161 - acc: 0.7964 - val_loss: 1.1097 - val_acc: 0.6511\n",
      "Epoch 3/20\n",
      "50000/50000 [==============================] - 14s 284us/step - loss: 0.5991 - acc: 0.8018 - val_loss: 0.6832 - val_acc: 0.7710\n",
      "Epoch 4/20\n",
      "50000/50000 [==============================] - 14s 286us/step - loss: 0.5841 - acc: 0.8070 - val_loss: 0.5391 - val_acc: 0.8169\n",
      "Epoch 5/20\n",
      "50000/50000 [==============================] - 14s 284us/step - loss: 0.5714 - acc: 0.8124 - val_loss: 0.5955 - val_acc: 0.7985\n",
      "Epoch 6/20\n",
      "50000/50000 [==============================] - 14s 284us/step - loss: 0.5504 - acc: 0.8199 - val_loss: 0.5535 - val_acc: 0.8097\n",
      "Epoch 7/20\n",
      "50000/50000 [==============================] - 14s 284us/step - loss: 0.5405 - acc: 0.8209 - val_loss: 0.7403 - val_acc: 0.7630\n",
      "Epoch 8/20\n",
      "50000/50000 [==============================] - 14s 283us/step - loss: 0.5307 - acc: 0.8250 - val_loss: 0.5939 - val_acc: 0.8022\n",
      "Epoch 9/20\n",
      "50000/50000 [==============================] - 14s 285us/step - loss: 0.5185 - acc: 0.8295 - val_loss: 1.0221 - val_acc: 0.6959\n",
      "Epoch 10/20\n",
      "50000/50000 [==============================] - 14s 283us/step - loss: 0.5060 - acc: 0.8332 - val_loss: 0.5588 - val_acc: 0.8135\n",
      "Epoch 11/20\n",
      "50000/50000 [==============================] - 14s 283us/step - loss: 0.4932 - acc: 0.8378 - val_loss: 0.5259 - val_acc: 0.8255\n",
      "Epoch 12/20\n",
      "50000/50000 [==============================] - 14s 284us/step - loss: 0.4798 - acc: 0.8417 - val_loss: 0.7548 - val_acc: 0.7622\n",
      "Epoch 13/20\n",
      "50000/50000 [==============================] - 14s 286us/step - loss: 0.4705 - acc: 0.8445 - val_loss: 0.6744 - val_acc: 0.7790\n",
      "Epoch 14/20\n",
      "50000/50000 [==============================] - 14s 284us/step - loss: 0.4586 - acc: 0.8499 - val_loss: 1.0473 - val_acc: 0.6829\n",
      "Epoch 15/20\n",
      "50000/50000 [==============================] - 15s 293us/step - loss: 0.4491 - acc: 0.8537 - val_loss: 0.5326 - val_acc: 0.8239\n",
      "Epoch 16/20\n",
      "50000/50000 [==============================] - 14s 284us/step - loss: 0.4403 - acc: 0.8558 - val_loss: 0.6229 - val_acc: 0.7976\n",
      "Epoch 17/20\n",
      "50000/50000 [==============================] - 14s 285us/step - loss: 0.4258 - acc: 0.8603 - val_loss: 0.5581 - val_acc: 0.8192\n",
      "Epoch 18/20\n",
      "50000/50000 [==============================] - 14s 284us/step - loss: 0.4297 - acc: 0.8601 - val_loss: 0.6965 - val_acc: 0.7917\n",
      "Epoch 19/20\n",
      "50000/50000 [==============================] - 14s 284us/step - loss: 0.4118 - acc: 0.8671 - val_loss: 0.7455 - val_acc: 0.7684\n",
      "Epoch 20/20\n",
      "50000/50000 [==============================] - 14s 285us/step - loss: 0.3998 - acc: 0.8676 - val_loss: 0.5120 - val_acc: 0.8287\n"
     ]
    },
    {
     "data": {
      "text/plain": [
       "<keras.callbacks.History at 0x7fb3ff96c358>"
      ]
     },
     "execution_count": 36,
     "metadata": {},
     "output_type": "execute_result"
    }
   ],
   "source": [
    "model.fit(X_train, y_train, batch_size=128, epochs=20, validation_data=(X_test, y_test))"
   ]
  },
  {
   "cell_type": "code",
   "execution_count": 37,
   "metadata": {},
   "outputs": [
    {
     "name": "stdout",
     "output_type": "stream",
     "text": [
      "Train on 50000 samples, validate on 10000 samples\n",
      "Epoch 1/20\n",
      "50000/50000 [==============================] - 14s 287us/step - loss: 0.3946 - acc: 0.8710 - val_loss: 0.7910 - val_acc: 0.7665\n",
      "Epoch 2/20\n",
      "50000/50000 [==============================] - 14s 284us/step - loss: 0.3864 - acc: 0.8726 - val_loss: 0.6128 - val_acc: 0.8121\n",
      "Epoch 3/20\n",
      "50000/50000 [==============================] - 14s 284us/step - loss: 0.3763 - acc: 0.8763 - val_loss: 0.5490 - val_acc: 0.8263\n",
      "Epoch 4/20\n",
      "50000/50000 [==============================] - 14s 285us/step - loss: 0.3677 - acc: 0.8800 - val_loss: 0.6718 - val_acc: 0.7954\n",
      "Epoch 5/20\n",
      "50000/50000 [==============================] - 14s 285us/step - loss: 0.3645 - acc: 0.8815 - val_loss: 0.5828 - val_acc: 0.8117\n",
      "Epoch 6/20\n",
      "50000/50000 [==============================] - 14s 285us/step - loss: 0.3592 - acc: 0.8829 - val_loss: 0.4966 - val_acc: 0.8397\n",
      "Epoch 7/20\n",
      "50000/50000 [==============================] - 14s 284us/step - loss: 0.3488 - acc: 0.8857 - val_loss: 0.5078 - val_acc: 0.8404\n",
      "Epoch 8/20\n",
      "50000/50000 [==============================] - 14s 284us/step - loss: 0.3391 - acc: 0.8889 - val_loss: 0.5464 - val_acc: 0.8315\n",
      "Epoch 9/20\n",
      "50000/50000 [==============================] - 14s 284us/step - loss: 0.3354 - acc: 0.8904 - val_loss: 0.5332 - val_acc: 0.8316\n",
      "Epoch 10/20\n",
      "50000/50000 [==============================] - 14s 283us/step - loss: 0.3249 - acc: 0.8933 - val_loss: 0.5413 - val_acc: 0.8342\n",
      "Epoch 11/20\n",
      "50000/50000 [==============================] - 14s 284us/step - loss: 0.3204 - acc: 0.8943 - val_loss: 0.5541 - val_acc: 0.8316\n",
      "Epoch 12/20\n",
      "50000/50000 [==============================] - 14s 283us/step - loss: 0.3225 - acc: 0.8951 - val_loss: 0.5626 - val_acc: 0.8240\n",
      "Epoch 13/20\n",
      "50000/50000 [==============================] - 14s 284us/step - loss: 0.3070 - acc: 0.8995 - val_loss: 0.4967 - val_acc: 0.8460\n",
      "Epoch 14/20\n",
      "50000/50000 [==============================] - 14s 284us/step - loss: 0.3044 - acc: 0.9017 - val_loss: 0.4607 - val_acc: 0.8507\n",
      "Epoch 15/20\n",
      "50000/50000 [==============================] - 15s 291us/step - loss: 0.2977 - acc: 0.9015 - val_loss: 0.6211 - val_acc: 0.8116\n",
      "Epoch 16/20\n",
      "50000/50000 [==============================] - 14s 285us/step - loss: 0.2903 - acc: 0.9052 - val_loss: 0.7044 - val_acc: 0.8026\n",
      "Epoch 17/20\n",
      "50000/50000 [==============================] - 14s 284us/step - loss: 0.2856 - acc: 0.9070 - val_loss: 0.5165 - val_acc: 0.8394\n",
      "Epoch 18/20\n",
      "50000/50000 [==============================] - 14s 284us/step - loss: 0.2844 - acc: 0.9074 - val_loss: 0.6016 - val_acc: 0.8266\n",
      "Epoch 19/20\n",
      "50000/50000 [==============================] - 14s 284us/step - loss: 0.2755 - acc: 0.9098 - val_loss: 0.5719 - val_acc: 0.8293\n",
      "Epoch 20/20\n",
      "50000/50000 [==============================] - 14s 284us/step - loss: 0.2761 - acc: 0.9103 - val_loss: 0.5182 - val_acc: 0.8432\n"
     ]
    },
    {
     "data": {
      "text/plain": [
       "<keras.callbacks.History at 0x7fb3fe07b6d8>"
      ]
     },
     "execution_count": 37,
     "metadata": {},
     "output_type": "execute_result"
    }
   ],
   "source": [
    "model.fit(X_train, y_train, batch_size=128, epochs=20, validation_data=(X_test, y_test))"
   ]
  },
  {
   "cell_type": "code",
   "execution_count": 38,
   "metadata": {},
   "outputs": [
    {
     "name": "stdout",
     "output_type": "stream",
     "text": [
      "Train on 50000 samples, validate on 10000 samples\n",
      "Epoch 1/10\n",
      "50000/50000 [==============================] - 14s 284us/step - loss: 0.2678 - acc: 0.9126 - val_loss: 0.4917 - val_acc: 0.8513\n",
      "Epoch 2/10\n",
      "50000/50000 [==============================] - 14s 288us/step - loss: 0.2644 - acc: 0.9130 - val_loss: 0.5360 - val_acc: 0.8318\n",
      "Epoch 3/10\n",
      "50000/50000 [==============================] - 14s 284us/step - loss: 0.2552 - acc: 0.9171 - val_loss: 0.5330 - val_acc: 0.8405\n",
      "Epoch 4/10\n",
      "50000/50000 [==============================] - 14s 284us/step - loss: 0.2476 - acc: 0.9191 - val_loss: 0.5224 - val_acc: 0.8480\n",
      "Epoch 5/10\n",
      "50000/50000 [==============================] - 14s 284us/step - loss: 0.2469 - acc: 0.9200 - val_loss: 0.5440 - val_acc: 0.8439\n",
      "Epoch 6/10\n",
      "50000/50000 [==============================] - 14s 284us/step - loss: 0.2468 - acc: 0.9185 - val_loss: 0.6024 - val_acc: 0.8248\n",
      "Epoch 7/10\n",
      "50000/50000 [==============================] - 14s 285us/step - loss: 0.2430 - acc: 0.9201 - val_loss: 0.6199 - val_acc: 0.8219\n",
      "Epoch 8/10\n",
      "50000/50000 [==============================] - 14s 284us/step - loss: 0.2372 - acc: 0.9225 - val_loss: 0.5296 - val_acc: 0.8437\n",
      "Epoch 9/10\n",
      "50000/50000 [==============================] - 14s 284us/step - loss: 0.2303 - acc: 0.9252 - val_loss: 0.5804 - val_acc: 0.8375\n",
      "Epoch 10/10\n",
      "50000/50000 [==============================] - 14s 284us/step - loss: 0.2250 - acc: 0.9258 - val_loss: 0.5461 - val_acc: 0.8462\n"
     ]
    },
    {
     "data": {
      "text/plain": [
       "<keras.callbacks.History at 0x7fb3fe040518>"
      ]
     },
     "execution_count": 38,
     "metadata": {},
     "output_type": "execute_result"
    }
   ],
   "source": [
    "model.fit(X_train, y_train, batch_size=128, epochs=10, validation_data=(X_test, y_test))"
   ]
  },
  {
   "cell_type": "code",
   "execution_count": 39,
   "metadata": {},
   "outputs": [
    {
     "name": "stdout",
     "output_type": "stream",
     "text": [
      "Train on 50000 samples, validate on 10000 samples\n",
      "Epoch 1/10\n",
      "50000/50000 [==============================] - 14s 286us/step - loss: 0.2304 - acc: 0.9249 - val_loss: 0.6414 - val_acc: 0.8245\n",
      "Epoch 2/10\n",
      "50000/50000 [==============================] - 14s 284us/step - loss: 0.2190 - acc: 0.9285 - val_loss: 0.5373 - val_acc: 0.8471\n",
      "Epoch 3/10\n",
      "50000/50000 [==============================] - 14s 285us/step - loss: 0.2117 - acc: 0.9311 - val_loss: 0.5969 - val_acc: 0.8342\n",
      "Epoch 4/10\n",
      "50000/50000 [==============================] - 14s 285us/step - loss: 0.2139 - acc: 0.9295 - val_loss: 0.5342 - val_acc: 0.8501\n",
      "Epoch 5/10\n",
      "50000/50000 [==============================] - 15s 292us/step - loss: 0.2115 - acc: 0.9307 - val_loss: 0.5528 - val_acc: 0.8469\n",
      "Epoch 6/10\n",
      "50000/50000 [==============================] - 14s 284us/step - loss: 0.2074 - acc: 0.9320 - val_loss: 0.4868 - val_acc: 0.8560\n",
      "Epoch 7/10\n",
      "50000/50000 [==============================] - 14s 284us/step - loss: 0.2065 - acc: 0.9334 - val_loss: 0.5756 - val_acc: 0.8368\n",
      "Epoch 8/10\n",
      "50000/50000 [==============================] - 14s 284us/step - loss: 0.2006 - acc: 0.9347 - val_loss: 0.5486 - val_acc: 0.8462\n",
      "Epoch 9/10\n",
      "50000/50000 [==============================] - 14s 283us/step - loss: 0.1986 - acc: 0.9347 - val_loss: 0.5194 - val_acc: 0.8500\n",
      "Epoch 10/10\n",
      "50000/50000 [==============================] - 14s 284us/step - loss: 0.1972 - acc: 0.9349 - val_loss: 0.5492 - val_acc: 0.8399\n"
     ]
    },
    {
     "data": {
      "text/plain": [
       "<keras.callbacks.History at 0x7fb3fe0406d8>"
      ]
     },
     "execution_count": 39,
     "metadata": {},
     "output_type": "execute_result"
    }
   ],
   "source": [
    "model.fit(X_train, y_train, batch_size=128, epochs=10, validation_data=(X_test, y_test))"
   ]
  },
  {
   "cell_type": "code",
   "execution_count": 40,
   "metadata": {},
   "outputs": [
    {
     "name": "stdout",
     "output_type": "stream",
     "text": [
      "Train on 50000 samples, validate on 10000 samples\n",
      "Epoch 1/10\n",
      "50000/50000 [==============================] - 14s 285us/step - loss: 0.1944 - acc: 0.9364 - val_loss: 0.6118 - val_acc: 0.8353\n",
      "Epoch 2/10\n",
      "50000/50000 [==============================] - 14s 285us/step - loss: 0.1930 - acc: 0.9376 - val_loss: 0.6371 - val_acc: 0.8293\n",
      "Epoch 3/10\n",
      "50000/50000 [==============================] - 14s 284us/step - loss: 0.1875 - acc: 0.9396 - val_loss: 0.5673 - val_acc: 0.8435\n",
      "Epoch 4/10\n",
      "50000/50000 [==============================] - 14s 283us/step - loss: 0.1844 - acc: 0.9407 - val_loss: 0.5719 - val_acc: 0.8469\n",
      "Epoch 5/10\n",
      "50000/50000 [==============================] - 14s 283us/step - loss: 0.1796 - acc: 0.9421 - val_loss: 0.6550 - val_acc: 0.8275\n",
      "Epoch 6/10\n",
      "50000/50000 [==============================] - 14s 284us/step - loss: 0.1783 - acc: 0.9416 - val_loss: 0.6279 - val_acc: 0.8322\n",
      "Epoch 7/10\n",
      "50000/50000 [==============================] - 14s 283us/step - loss: 0.1807 - acc: 0.9409 - val_loss: 0.5356 - val_acc: 0.8565\n",
      "Epoch 8/10\n",
      "50000/50000 [==============================] - 14s 283us/step - loss: 0.1774 - acc: 0.9431 - val_loss: 0.5236 - val_acc: 0.8571\n",
      "Epoch 9/10\n",
      "50000/50000 [==============================] - 14s 283us/step - loss: 0.1729 - acc: 0.9438 - val_loss: 0.5631 - val_acc: 0.8497\n",
      "Epoch 10/10\n",
      "50000/50000 [==============================] - 14s 284us/step - loss: 0.1753 - acc: 0.9437 - val_loss: 0.5324 - val_acc: 0.8535\n"
     ]
    },
    {
     "data": {
      "text/plain": [
       "<keras.callbacks.History at 0x7fb3fe088c50>"
      ]
     },
     "execution_count": 40,
     "metadata": {},
     "output_type": "execute_result"
    }
   ],
   "source": [
    "model.fit(X_train, y_train, batch_size=128, epochs=10, validation_data=(X_test, y_test))"
   ]
  },
  {
   "cell_type": "markdown",
   "metadata": {},
   "source": [
    "#### Evaluate model"
   ]
  },
  {
   "cell_type": "code",
   "execution_count": 44,
   "metadata": {},
   "outputs": [
    {
     "name": "stdout",
     "output_type": "stream",
     "text": [
      "10000/10000 [==============================] - 2s 191us/step\n",
      "[Loss: 0.5324, Acc: 0.8535]\n"
     ]
    }
   ],
   "source": [
    "loss, acc = model.evaluate(X_test, y_test)\n",
    "print(\"[Loss: %.4f, Acc: %.4f]\" % (loss, acc))"
   ]
  },
  {
   "cell_type": "markdown",
   "metadata": {},
   "source": [
    "#### Test model"
   ]
  },
  {
   "cell_type": "code",
   "execution_count": 60,
   "metadata": {},
   "outputs": [],
   "source": [
    "predictions = model.predict(X_test)"
   ]
  },
  {
   "cell_type": "code",
   "execution_count": 79,
   "metadata": {},
   "outputs": [
    {
     "name": "stdout",
     "output_type": "stream",
     "text": [
      "[Predictions: 8, Ground Truth: 8]\n"
     ]
    }
   ],
   "source": [
    "n = random.randint(0, len(X_test)-1)\n",
    "print(\"[Predictions: %d, Ground Truth: %d]\" % (np.argmax(predictions[n]), int(y_test[n])))"
   ]
  },
  {
   "cell_type": "code",
   "execution_count": null,
   "metadata": {},
   "outputs": [],
   "source": []
  }
 ],
 "metadata": {
  "kernelspec": {
   "display_name": "new_ML",
   "language": "python",
   "name": "new_ml"
  },
  "language_info": {
   "codemirror_mode": {
    "name": "ipython",
    "version": 3
   },
   "file_extension": ".py",
   "mimetype": "text/x-python",
   "name": "python",
   "nbconvert_exporter": "python",
   "pygments_lexer": "ipython3",
   "version": "3.6.9"
  }
 },
 "nbformat": 4,
 "nbformat_minor": 1
}
