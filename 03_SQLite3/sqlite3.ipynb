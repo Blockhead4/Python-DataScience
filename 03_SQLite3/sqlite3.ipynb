{
 "cells": [
  {
   "cell_type": "markdown",
   "metadata": {},
   "source": [
    "## 데이터베이스 일반적 사용"
   ]
  },
  {
   "cell_type": "code",
   "execution_count": 1,
   "metadata": {},
   "outputs": [],
   "source": [
    "import sqlite3\n",
    "import pandas as pd\n",
    "import numpy as np"
   ]
  },
  {
   "cell_type": "markdown",
   "metadata": {},
   "source": [
    "### 1. 파이썬에서 사용하는 방법"
   ]
  },
  {
   "cell_type": "markdown",
   "metadata": {},
   "source": [
    "#### 1-1. 데이터베이스 접속"
   ]
  },
  {
   "cell_type": "code",
   "execution_count": 2,
   "metadata": {},
   "outputs": [],
   "source": [
    "# conn = sqlite3.connect(':memory:') # 메모리 DB 접속(일회성)\n",
    "conn = sqlite3.connect('./test.db') # 파일 DB 접속(일회성)"
   ]
  },
  {
   "cell_type": "markdown",
   "metadata": {},
   "source": [
    "### 2. Data Definition Language(DDL)"
   ]
  },
  {
   "cell_type": "markdown",
   "metadata": {},
   "source": [
    "#### 2-1. 테이블 생성"
   ]
  },
  {
   "cell_type": "code",
   "execution_count": 152,
   "metadata": {},
   "outputs": [
    {
     "data": {
      "text/plain": [
       "<sqlite3.Cursor at 0x9fe5ab0>"
      ]
     },
     "execution_count": 152,
     "metadata": {},
     "output_type": "execute_result"
    }
   ],
   "source": [
    "cur = conn.cursor()\n",
    "cur.execute('CREATE TABLE IF NOT EXISTS Eagles \\\n",
    "            (back_no INT NOT NULL, \\\n",
    "             name TEXT, \\\n",
    "             position TEXT, \\\n",
    "             hands TEXT, \\\n",
    "             highschool TEXT, \\\n",
    "             height INT, \\\n",
    "             PRIMARY KEY(back_no));')"
   ]
  },
  {
   "cell_type": "markdown",
   "metadata": {},
   "source": [
    "#### 2-2. 테이블 변경"
   ]
  },
  {
   "cell_type": "code",
   "execution_count": 69,
   "metadata": {},
   "outputs": [],
   "source": [
    "# cur.execute(‘ALTER TABLE Eagles ADD COLUMN birth INTEGER’)"
   ]
  },
  {
   "cell_type": "markdown",
   "metadata": {},
   "source": [
    "#### 2-3. 테이블 삭제"
   ]
  },
  {
   "cell_type": "code",
   "execution_count": 70,
   "metadata": {},
   "outputs": [],
   "source": [
    "# cur.execute(‘DROP TABLE Eagles’)"
   ]
  },
  {
   "cell_type": "markdown",
   "metadata": {},
   "source": [
    "### 3. 데이터 조작 언어(Data Manipulation Language, DML)"
   ]
  },
  {
   "cell_type": "markdown",
   "metadata": {},
   "source": [
    "#### 3-1. 데이터 삽입"
   ]
  },
  {
   "cell_type": "markdown",
   "metadata": {},
   "source": [
    "- 기본 스트링 쿼리"
   ]
  },
  {
   "cell_type": "code",
   "execution_count": null,
   "metadata": {},
   "outputs": [],
   "source": [
    "cur = conn.cursor()\n",
    "cur.execute(“INSERT INTO Eagles VALUES (1, ‘하주석', ‘내야수');”)\n",
    "cur.execute(“INSERT INTO Eagles VALUES (57, ‘정우람', ‘투수'), (8, ‘정근우’, ‘내야수);”)"
   ]
  },
  {
   "cell_type": "markdown",
   "metadata": {},
   "source": [
    "- 파라메터: 튜플 사용"
   ]
  },
  {
   "cell_type": "code",
   "execution_count": null,
   "metadata": {},
   "outputs": [],
   "source": [
    "back_no = 50\n",
    "name = ‘이성열’\n",
    "position = ‘외야수’\n",
    "cur = conn.cursor()\n",
    "sql = ‘INSERT INTO Eagles VALUES (?, ?, ?);’\n",
    "cur.execute(sql, (back_no, name, position))"
   ]
  },
  {
   "cell_type": "markdown",
   "metadata": {},
   "source": [
    "- 튜플 리스트 사용"
   ]
  },
  {
   "cell_type": "code",
   "execution_count": null,
   "metadata": {},
   "outputs": [],
   "source": [
    "players = ((22, ‘이태양’, ‘투수’), (13, ‘최재훈’, ‘포수’))\n",
    "cur = conn.cursor()\n",
    "sql = ‘INSERT INTO Eagles VALUES (?, ?, ?);’\n",
    "cur.executemany(sql, players)"
   ]
  },
  {
   "cell_type": "markdown",
   "metadata": {},
   "source": [
    "- INSERT INTO Table (field1, f2, ... , fn) VALUES (value1, v2, ... , vn) "
   ]
  },
  {
   "cell_type": "code",
   "execution_count": 9,
   "metadata": {},
   "outputs": [],
   "source": [
    "cur = conn.cursor()\n",
    "cur.execute(\"INSERT INTO Eagles('back_no', 'name', 'position') \\\n",
    "            VALUES(30, '호잉', '외야수');\")\n",
    "conn.commit() # 변경사항 저장"
   ]
  },
  {
   "cell_type": "code",
   "execution_count": 10,
   "metadata": {},
   "outputs": [],
   "source": [
    "cur.execute(\"INSERT INTO Eagles VALUES \\\n",
    "            (1, '하주석', '내야수', '우투좌타', '신일고', 183), \\\n",
    "            (28, '양성우', '외야수', '우투좌타', '충암고', 177);\")\n",
    "conn.commit()"
   ]
  },
  {
   "cell_type": "markdown",
   "metadata": {},
   "source": [
    "#### 3-2. 데이터 파일로부터 읽어와서 삽입"
   ]
  },
  {
   "cell_type": "code",
   "execution_count": 5,
   "metadata": {},
   "outputs": [
    {
     "data": {
      "text/html": [
       "<div>\n",
       "<style scoped>\n",
       "    .dataframe tbody tr th:only-of-type {\n",
       "        vertical-align: middle;\n",
       "    }\n",
       "\n",
       "    .dataframe tbody tr th {\n",
       "        vertical-align: top;\n",
       "    }\n",
       "\n",
       "    .dataframe thead th {\n",
       "        text-align: right;\n",
       "    }\n",
       "</style>\n",
       "<table border=\"1\" class=\"dataframe\">\n",
       "  <thead>\n",
       "    <tr style=\"text-align: right;\">\n",
       "      <th></th>\n",
       "      <th>back_no</th>\n",
       "      <th>name</th>\n",
       "      <th>position</th>\n",
       "      <th>hands</th>\n",
       "      <th>highschool</th>\n",
       "      <th>height</th>\n",
       "    </tr>\n",
       "  </thead>\n",
       "  <tbody>\n",
       "    <tr>\n",
       "      <th>0</th>\n",
       "      <td>17</td>\n",
       "      <td>김범수</td>\n",
       "      <td>투수</td>\n",
       "      <td>좌투좌타</td>\n",
       "      <td>천안북일고</td>\n",
       "      <td>181</td>\n",
       "    </tr>\n",
       "    <tr>\n",
       "      <th>1</th>\n",
       "      <td>38</td>\n",
       "      <td>안영명</td>\n",
       "      <td>투수</td>\n",
       "      <td>우투우타</td>\n",
       "      <td>천안북일고</td>\n",
       "      <td>183</td>\n",
       "    </tr>\n",
       "    <tr>\n",
       "      <th>2</th>\n",
       "      <td>36</td>\n",
       "      <td>장민재</td>\n",
       "      <td>투수</td>\n",
       "      <td>우투우타</td>\n",
       "      <td>광주제일고</td>\n",
       "      <td>184</td>\n",
       "    </tr>\n",
       "    <tr>\n",
       "      <th>3</th>\n",
       "      <td>13</td>\n",
       "      <td>최재훈</td>\n",
       "      <td>포수</td>\n",
       "      <td>우투우타</td>\n",
       "      <td>덕수고</td>\n",
       "      <td>178</td>\n",
       "    </tr>\n",
       "    <tr>\n",
       "      <th>4</th>\n",
       "      <td>52</td>\n",
       "      <td>김태균</td>\n",
       "      <td>내야수</td>\n",
       "      <td>우투우타</td>\n",
       "      <td>천안북일고</td>\n",
       "      <td>185</td>\n",
       "    </tr>\n",
       "    <tr>\n",
       "      <th>5</th>\n",
       "      <td>7</td>\n",
       "      <td>송광민</td>\n",
       "      <td>내야수</td>\n",
       "      <td>우투우타</td>\n",
       "      <td>공주고</td>\n",
       "      <td>184</td>\n",
       "    </tr>\n",
       "    <tr>\n",
       "      <th>6</th>\n",
       "      <td>50</td>\n",
       "      <td>이성열</td>\n",
       "      <td>내야수</td>\n",
       "      <td>우투좌타</td>\n",
       "      <td>순천효천고</td>\n",
       "      <td>185</td>\n",
       "    </tr>\n",
       "    <tr>\n",
       "      <th>7</th>\n",
       "      <td>43</td>\n",
       "      <td>정은원</td>\n",
       "      <td>내야수</td>\n",
       "      <td>우투좌타</td>\n",
       "      <td>인천고</td>\n",
       "      <td>177</td>\n",
       "    </tr>\n",
       "    <tr>\n",
       "      <th>8</th>\n",
       "      <td>8</td>\n",
       "      <td>정근우</td>\n",
       "      <td>외야수</td>\n",
       "      <td>우투우타</td>\n",
       "      <td>부산고</td>\n",
       "      <td>172</td>\n",
       "    </tr>\n",
       "    <tr>\n",
       "      <th>9</th>\n",
       "      <td>25</td>\n",
       "      <td>최진행</td>\n",
       "      <td>외야수</td>\n",
       "      <td>우투우타</td>\n",
       "      <td>덕수정보고</td>\n",
       "      <td>188</td>\n",
       "    </tr>\n",
       "  </tbody>\n",
       "</table>\n",
       "</div>"
      ],
      "text/plain": [
       "   back_no name position hands highschool  height\n",
       "0       17  김범수       투수  좌투좌타      천안북일고     181\n",
       "1       38  안영명       투수  우투우타      천안북일고     183\n",
       "2       36  장민재       투수  우투우타      광주제일고     184\n",
       "3       13  최재훈       포수  우투우타        덕수고     178\n",
       "4       52  김태균      내야수  우투우타      천안북일고     185\n",
       "5        7  송광민      내야수  우투우타        공주고     184\n",
       "6       50  이성열      내야수  우투좌타      순천효천고     185\n",
       "7       43  정은원      내야수  우투좌타        인천고     177\n",
       "8        8  정근우      외야수  우투우타        부산고     172\n",
       "9       25  최진행      외야수  우투우타      덕수정보고     188"
      ]
     },
     "execution_count": 5,
     "metadata": {},
     "output_type": "execute_result"
    }
   ],
   "source": [
    "players = pd.read_csv('players.csv', engine='python')\n",
    "players"
   ]
  },
  {
   "cell_type": "markdown",
   "metadata": {},
   "source": [
    "- 모든 필드에 데이터를 삽입할 경우 필드명 생략 가능\n",
    "- 튜플의 리스트 형태로 한꺼번에 여러 데이터를 입력 할 수 있음"
   ]
  },
  {
   "cell_type": "code",
   "execution_count": 19,
   "metadata": {},
   "outputs": [],
   "source": [
    "cur = conn.cursor()\n",
    "sql = 'INSERT INTO Eagles VALUES (?, ?, ?, ?, ?, ?);'\n",
    "for i in range(10):    \n",
    "    cur.execute(sql, players.values[i])\n",
    "conn.commit()"
   ]
  },
  {
   "cell_type": "markdown",
   "metadata": {},
   "source": [
    "#### 3-3. 데이터 조회"
   ]
  },
  {
   "cell_type": "markdown",
   "metadata": {},
   "source": [
    "- 순회 조회"
   ]
  },
  {
   "cell_type": "code",
   "execution_count": 20,
   "metadata": {},
   "outputs": [
    {
     "name": "stdout",
     "output_type": "stream",
     "text": [
      "(30, '호잉', '외야수', None, None, None)\n",
      "(1, '하주석', '내야수', '우투좌타', '신일고', 183)\n",
      "(28, '양성우', '외야수', '우투좌타', '충암고', 177)\n",
      "(17, '김범수', '투수', '좌투좌타', '천안북일고', 181)\n",
      "(38, '안영명', '투수', '우투우타', '천안북일고', 183)\n",
      "(36, '장민재', '투수', '우투우타', '광주제일고', 184)\n",
      "(13, '최재훈', '포수', '우투우타', '덕수고', 178)\n",
      "(52, '김태균', '내야수', '우투우타', '천안북일고', 185)\n",
      "(7, '송광민', '내야수', '우투우타', '공주고', 184)\n",
      "(50, '이성열', '내야수', '우투좌타', '순천효천고', 185)\n",
      "(43, '정은원', '내야수', '우투좌타', '인천고', 177)\n",
      "(8, '정근우', '외야수', '우투우타', '부산고', 172)\n",
      "(25, '최진행', '외야수', '우투우타', '덕수정보고', 188)\n"
     ]
    }
   ],
   "source": [
    "cur = conn.cursor()\n",
    "cur.execute('SELECT * FROM Eagles')\n",
    "for row in cur:\n",
    "    print(row)"
   ]
  },
  {
   "cell_type": "markdown",
   "metadata": {},
   "source": [
    "- 단건 조회"
   ]
  },
  {
   "cell_type": "code",
   "execution_count": 31,
   "metadata": {},
   "outputs": [
    {
     "data": {
      "text/plain": [
       "(30, '호잉', '외야수', None, None, None)"
      ]
     },
     "execution_count": 31,
     "metadata": {},
     "output_type": "execute_result"
    }
   ],
   "source": [
    "cur = conn.cursor()\n",
    "cur.execute('SELECT * FROM Eagles')\n",
    "row = cur.fetchone()\n",
    "row"
   ]
  },
  {
   "cell_type": "markdown",
   "metadata": {},
   "source": [
    "- 다건 조회"
   ]
  },
  {
   "cell_type": "code",
   "execution_count": 32,
   "metadata": {},
   "outputs": [
    {
     "data": {
      "text/plain": [
       "[(1, '하주석', '내야수', '우투좌타', '신일고', 183), (28, '양성우', '외야수', '우투좌타', '충암고', 177)]"
      ]
     },
     "execution_count": 32,
     "metadata": {},
     "output_type": "execute_result"
    }
   ],
   "source": [
    "rows = cur.fetchmany(2)\n",
    "rows"
   ]
  },
  {
   "cell_type": "markdown",
   "metadata": {},
   "source": [
    "- 모두 조회"
   ]
  },
  {
   "cell_type": "code",
   "execution_count": 33,
   "metadata": {},
   "outputs": [
    {
     "name": "stdout",
     "output_type": "stream",
     "text": [
      "(17, '김범수', '투수', '좌투좌타', '천안북일고', 181)\n",
      "(38, '안영명', '투수', '우투우타', '천안북일고', 183)\n",
      "(36, '장민재', '투수', '우투우타', '광주제일고', 184)\n",
      "(13, '최재훈', '포수', '우투우타', '덕수고', 178)\n",
      "(52, '김태균', '내야수', '우투우타', '천안북일고', 185)\n",
      "(7, '송광민', '내야수', '우투우타', '공주고', 184)\n",
      "(50, '이성열', '내야수', '우투좌타', '순천효천고', 185)\n",
      "(43, '정은원', '내야수', '우투좌타', '인천고', 177)\n",
      "(8, '정근우', '외야수', '우투우타', '부산고', 172)\n",
      "(25, '최진행', '외야수', '우투우타', '덕수정보고', 188)\n"
     ]
    }
   ],
   "source": [
    "rows = cur.fetchall()\n",
    "for row in rows:\n",
    "    print(row)"
   ]
  },
  {
   "cell_type": "markdown",
   "metadata": {},
   "source": [
    "- 필요한 column만 조회"
   ]
  },
  {
   "cell_type": "code",
   "execution_count": 35,
   "metadata": {},
   "outputs": [
    {
     "name": "stdout",
     "output_type": "stream",
     "text": [
      "('최재훈',)\n",
      "('김범수',)\n",
      "('최진행',)\n",
      "('양성우',)\n",
      "('호잉',)\n",
      "('장민재',)\n",
      "('안영명',)\n",
      "('정은원',)\n",
      "('이성열',)\n",
      "('김태균',)\n"
     ]
    }
   ],
   "source": [
    "cur = conn.cursor()\n",
    "cur.execute(\"SELECT name FROM Eagles WHERE back_no > 10\")\n",
    "rows = cur.fetchall();\n",
    "for row in rows:\n",
    "    print(row)"
   ]
  },
  {
   "cell_type": "markdown",
   "metadata": {},
   "source": [
    "- 원하는 순서 및 갯수"
   ]
  },
  {
   "cell_type": "code",
   "execution_count": 62,
   "metadata": {},
   "outputs": [
    {
     "name": "stdout",
     "output_type": "stream",
     "text": [
      "김범수\n",
      "호잉\n",
      "호잉\n"
     ]
    }
   ],
   "source": [
    "cur.execute('SELECT * FROM Eagles ORDER BY name')\n",
    "row = cur.fetchone()\n",
    "print(row[1]) # ‘하주석’\n",
    "cur.execute('SELECT * FROM Eagles ORDER BY name DESC')\n",
    "row = cur.fetchone()\n",
    "print(row[1]) # ‘하주석’\n",
    "cur.execute('SELECT * FROM Eagles ORDER BY name DESC LIMIT 1')\n",
    "row = cur.fetchone()\n",
    "print(row[1]) # ‘하주석’"
   ]
  },
  {
   "cell_type": "markdown",
   "metadata": {},
   "source": [
    "- 집계 함수"
   ]
  },
  {
   "cell_type": "code",
   "execution_count": 68,
   "metadata": {},
   "outputs": [
    {
     "data": {
      "text/plain": [
       "(13,)"
      ]
     },
     "execution_count": 68,
     "metadata": {},
     "output_type": "execute_result"
    }
   ],
   "source": [
    "cur.execute('SELECT count(*) FROM Eagles') # max(column), min(column), sum(column), avg(column)\n",
    "count = cur.fetchone()\n",
    "count"
   ]
  },
  {
   "cell_type": "markdown",
   "metadata": {},
   "source": [
    "#### 3-4. 데이터 검색"
   ]
  },
  {
   "cell_type": "markdown",
   "metadata": {},
   "source": [
    "- 기본 스트링 쿼리"
   ]
  },
  {
   "cell_type": "code",
   "execution_count": 72,
   "metadata": {},
   "outputs": [
    {
     "name": "stdout",
     "output_type": "stream",
     "text": [
      "(1, '하주석', '내야수', '우투좌타', '신일고', 183)\n",
      "(52, '김태균', '내야수', '우투우타', '천안북일고', 185)\n",
      "(7, '송광민', '내야수', '우투우타', '공주고', 184)\n",
      "(50, '이성열', '내야수', '우투좌타', '순천효천고', 185)\n",
      "(43, '정은원', '내야수', '우투좌타', '인천고', 177)\n"
     ]
    }
   ],
   "source": [
    "cur = conn.cursor()\n",
    "cur.execute(\"SELECT * FROM Eagles WHERE position='내야수';\")\n",
    "rows = cur.fetchall();\n",
    "for row in rows:\n",
    "    print(row)"
   ]
  },
  {
   "cell_type": "markdown",
   "metadata": {},
   "source": [
    "- Placeholder"
   ]
  },
  {
   "cell_type": "code",
   "execution_count": 95,
   "metadata": {},
   "outputs": [
    {
     "data": {
      "text/plain": [
       "50"
      ]
     },
     "execution_count": 95,
     "metadata": {},
     "output_type": "execute_result"
    }
   ],
   "source": [
    "cur = conn.cursor()\n",
    "back_no = 50\n",
    "cur.execute('SELECT * FROM Eagles WHERE back_no=?;', (back_no,))\n",
    "player = cur.fetchone()\n",
    "player[0] # 50"
   ]
  },
  {
   "cell_type": "markdown",
   "metadata": {},
   "source": [
    "- Grouping"
   ]
  },
  {
   "cell_type": "code",
   "execution_count": 79,
   "metadata": {},
   "outputs": [
    {
     "data": {
      "text/plain": [
       "[('내야수', 5), ('외야수', 4), ('투수', 3), ('포수', 1)]"
      ]
     },
     "execution_count": 79,
     "metadata": {},
     "output_type": "execute_result"
    }
   ],
   "source": [
    "cur = conn.cursor()\n",
    "sql = \"SELECT position, count(*) FROM Eagles GROUP BY position\"\n",
    "cur.execute(sql)\n",
    "group = cur.fetchall()\n",
    "group"
   ]
  },
  {
   "cell_type": "markdown",
   "metadata": {},
   "source": [
    "#### 3-5. 데이터 변경\n",
    "- UPDATE table SET field1 = value1, ... WHERE 조건"
   ]
  },
  {
   "cell_type": "code",
   "execution_count": 98,
   "metadata": {},
   "outputs": [],
   "source": [
    "position = \"외야수\"\n",
    "back_no = 8\n",
    "cur.execute(\"UPDATE Eagles SET position=? WHERE back_no=?;\", (position, back_no))\n",
    "conn.commit()"
   ]
  },
  {
   "cell_type": "code",
   "execution_count": 99,
   "metadata": {},
   "outputs": [
    {
     "data": {
      "text/plain": [
       "[(8, '정근우', '외야수', '우투우타', '부산고', 172)]"
      ]
     },
     "execution_count": 99,
     "metadata": {},
     "output_type": "execute_result"
    }
   ],
   "source": [
    "cur.execute(\"SELECT * FROM Eagles WHERE back_no=?\", (back_no,))\n",
    "cur.fetchall()"
   ]
  },
  {
   "cell_type": "code",
   "execution_count": 89,
   "metadata": {},
   "outputs": [
    {
     "data": {
      "text/plain": [
       "[]"
      ]
     },
     "execution_count": 89,
     "metadata": {},
     "output_type": "execute_result"
    }
   ],
   "source": [
    "data = ((1995, 1), (1986, 57))\n",
    "sql = \"UPDATE Eagles SET position=? WHERE back_no=?\"\n",
    "cur.executemany(sql, data)\n",
    "cur.fetchall()"
   ]
  },
  {
   "cell_type": "markdown",
   "metadata": {},
   "source": [
    "#### 3-6. 데이터 삭제"
   ]
  },
  {
   "cell_type": "code",
   "execution_count": 100,
   "metadata": {},
   "outputs": [],
   "source": [
    "cur = conn.cursor()\n",
    "cur.execute(\"DELETE FROM Eagles WHERE back_no=1;\")\n",
    "conn.commit()"
   ]
  },
  {
   "cell_type": "markdown",
   "metadata": {},
   "source": [
    "## Table Join을 위한 준비"
   ]
  },
  {
   "cell_type": "code",
   "execution_count": 104,
   "metadata": {},
   "outputs": [
    {
     "data": {
      "text/plain": [
       "<sqlite3.Cursor at 0x91fc6c0>"
      ]
     },
     "execution_count": 104,
     "metadata": {},
     "output_type": "execute_result"
    }
   ],
   "source": [
    "cur = conn.cursor()\n",
    "cur.execute('CREATE TABLE IF NOT EXISTS Stats \\\n",
    "            (id INT NOT NULL, \\\n",
    "             player TEXT, \\\n",
    "             average REAL, \\\n",
    "             rbi INT, \\\n",
    "             homerun INT, \\\n",
    "             PRIMARY KEY(id));')"
   ]
  },
  {
   "cell_type": "code",
   "execution_count": 106,
   "metadata": {},
   "outputs": [
    {
     "data": {
      "text/html": [
       "<div>\n",
       "<style scoped>\n",
       "    .dataframe tbody tr th:only-of-type {\n",
       "        vertical-align: middle;\n",
       "    }\n",
       "\n",
       "    .dataframe tbody tr th {\n",
       "        vertical-align: top;\n",
       "    }\n",
       "\n",
       "    .dataframe thead th {\n",
       "        text-align: right;\n",
       "    }\n",
       "</style>\n",
       "<table border=\"1\" class=\"dataframe\">\n",
       "  <thead>\n",
       "    <tr style=\"text-align: right;\">\n",
       "      <th></th>\n",
       "      <th>player</th>\n",
       "      <th>average</th>\n",
       "      <th>rbi</th>\n",
       "      <th>homerun</th>\n",
       "    </tr>\n",
       "  </thead>\n",
       "  <tbody>\n",
       "    <tr>\n",
       "      <th>0</th>\n",
       "      <td>호잉</td>\n",
       "      <td>0.288</td>\n",
       "      <td>58</td>\n",
       "      <td>15</td>\n",
       "    </tr>\n",
       "    <tr>\n",
       "      <th>1</th>\n",
       "      <td>양성우</td>\n",
       "      <td>0.176</td>\n",
       "      <td>6</td>\n",
       "      <td>1</td>\n",
       "    </tr>\n",
       "    <tr>\n",
       "      <th>2</th>\n",
       "      <td>최재훈</td>\n",
       "      <td>0.300</td>\n",
       "      <td>23</td>\n",
       "      <td>2</td>\n",
       "    </tr>\n",
       "    <tr>\n",
       "      <th>3</th>\n",
       "      <td>김태균</td>\n",
       "      <td>0.308</td>\n",
       "      <td>43</td>\n",
       "      <td>5</td>\n",
       "    </tr>\n",
       "    <tr>\n",
       "      <th>4</th>\n",
       "      <td>송광민</td>\n",
       "      <td>0.257</td>\n",
       "      <td>39</td>\n",
       "      <td>6</td>\n",
       "    </tr>\n",
       "    <tr>\n",
       "      <th>5</th>\n",
       "      <td>이성열</td>\n",
       "      <td>0.255</td>\n",
       "      <td>62</td>\n",
       "      <td>18</td>\n",
       "    </tr>\n",
       "    <tr>\n",
       "      <th>6</th>\n",
       "      <td>정은원</td>\n",
       "      <td>0.281</td>\n",
       "      <td>47</td>\n",
       "      <td>5</td>\n",
       "    </tr>\n",
       "    <tr>\n",
       "      <th>7</th>\n",
       "      <td>정근우</td>\n",
       "      <td>0.219</td>\n",
       "      <td>10</td>\n",
       "      <td>2</td>\n",
       "    </tr>\n",
       "    <tr>\n",
       "      <th>8</th>\n",
       "      <td>최진행</td>\n",
       "      <td>0.184</td>\n",
       "      <td>14</td>\n",
       "      <td>3</td>\n",
       "    </tr>\n",
       "  </tbody>\n",
       "</table>\n",
       "</div>"
      ],
      "text/plain": [
       "  player  average  rbi  homerun\n",
       "0     호잉    0.288   58       15\n",
       "1    양성우    0.176    6        1\n",
       "2    최재훈    0.300   23        2\n",
       "3    김태균    0.308   43        5\n",
       "4    송광민    0.257   39        6\n",
       "5    이성열    0.255   62       18\n",
       "6    정은원    0.281   47        5\n",
       "7    정근우    0.219   10        2\n",
       "8    최진행    0.184   14        3"
      ]
     },
     "execution_count": 106,
     "metadata": {},
     "output_type": "execute_result"
    }
   ],
   "source": [
    "stats = pd.read_csv('stats.csv', encoding='EUC_KR')\n",
    "stats"
   ]
  },
  {
   "cell_type": "code",
   "execution_count": null,
   "metadata": {},
   "outputs": [],
   "source": [
    "cur = conn.cursor()\n",
    "sql = \"INSERT INTO Stats VALUES (?, ?, ?, ?, ?);\"\n",
    "for i in range(1, 10):\n",
    "    cur.execute(sql, (i, *stats.values[i-1]))\n",
    "conn.commit()"
   ]
  },
  {
   "cell_type": "code",
   "execution_count": 118,
   "metadata": {},
   "outputs": [
    {
     "data": {
      "text/plain": [
       "[(1, '호잉', 0.28800000000000003, 58, 15),\n",
       " (2, '양성우', 0.17600000000000002, 6, 1),\n",
       " (3, '최재훈', 0.3, 23, 2),\n",
       " (4, '김태균', 0.308, 43, 5),\n",
       " (5, '송광민', 0.257, 39, 6),\n",
       " (6, '이성열', 0.255, 62, 18),\n",
       " (7, '정은원', 0.281, 47, 5),\n",
       " (8, '정근우', 0.21899999999999997, 10, 2),\n",
       " (9, '최진행', 0.184, 14, 3)]"
      ]
     },
     "execution_count": 118,
     "metadata": {},
     "output_type": "execute_result"
    }
   ],
   "source": [
    "cur = conn.cursor()\n",
    "cur.execute('SELECT * FROM Stats')\n",
    "cur.fetchall()"
   ]
  },
  {
   "cell_type": "code",
   "execution_count": 125,
   "metadata": {},
   "outputs": [
    {
     "data": {
      "text/plain": [
       "[(30, '호잉', '외야수', 0.28800000000000003, 58, 15),\n",
       " (28, '양성우', '외야수', 0.17600000000000002, 6, 1),\n",
       " (13, '최재훈', '포수', 0.3, 23, 2),\n",
       " (52, '김태균', '내야수', 0.308, 43, 5),\n",
       " (7, '송광민', '내야수', 0.257, 39, 6),\n",
       " (50, '이성열', '내야수', 0.255, 62, 18),\n",
       " (43, '정은원', '내야수', 0.281, 47, 5),\n",
       " (8, '정근우', '외야수', 0.21899999999999997, 10, 2),\n",
       " (25, '최진행', '외야수', 0.184, 14, 3)]"
      ]
     },
     "execution_count": 125,
     "metadata": {},
     "output_type": "execute_result"
    }
   ],
   "source": [
    "sql = \"SELECT e.back_no, e.name, e.position, \\\n",
    "              s.average, s.rbi, s.homerun \\\n",
    "              FROM Eagles AS e JOIN Stats AS s \\\n",
    "              ON e.name LIKE s.player;\"\n",
    "cur = conn.cursor()\n",
    "cur.execute(sql)\n",
    "join = cur.fetchall()\n",
    "join"
   ]
  },
  {
   "cell_type": "code",
   "execution_count": 132,
   "metadata": {},
   "outputs": [
    {
     "data": {
      "text/html": [
       "<div>\n",
       "<style scoped>\n",
       "    .dataframe tbody tr th:only-of-type {\n",
       "        vertical-align: middle;\n",
       "    }\n",
       "\n",
       "    .dataframe tbody tr th {\n",
       "        vertical-align: top;\n",
       "    }\n",
       "\n",
       "    .dataframe thead th {\n",
       "        text-align: right;\n",
       "    }\n",
       "</style>\n",
       "<table border=\"1\" class=\"dataframe\">\n",
       "  <thead>\n",
       "    <tr style=\"text-align: right;\">\n",
       "      <th></th>\n",
       "      <th>등번호</th>\n",
       "      <th>선수명</th>\n",
       "      <th>포지션</th>\n",
       "      <th>타율</th>\n",
       "      <th>타점</th>\n",
       "      <th>홈런</th>\n",
       "    </tr>\n",
       "  </thead>\n",
       "  <tbody>\n",
       "    <tr>\n",
       "      <th>0</th>\n",
       "      <td>30</td>\n",
       "      <td>호잉</td>\n",
       "      <td>외야수</td>\n",
       "      <td>0.288</td>\n",
       "      <td>58</td>\n",
       "      <td>15</td>\n",
       "    </tr>\n",
       "    <tr>\n",
       "      <th>1</th>\n",
       "      <td>28</td>\n",
       "      <td>양성우</td>\n",
       "      <td>외야수</td>\n",
       "      <td>0.176</td>\n",
       "      <td>6</td>\n",
       "      <td>1</td>\n",
       "    </tr>\n",
       "    <tr>\n",
       "      <th>2</th>\n",
       "      <td>13</td>\n",
       "      <td>최재훈</td>\n",
       "      <td>포수</td>\n",
       "      <td>0.300</td>\n",
       "      <td>23</td>\n",
       "      <td>2</td>\n",
       "    </tr>\n",
       "    <tr>\n",
       "      <th>3</th>\n",
       "      <td>52</td>\n",
       "      <td>김태균</td>\n",
       "      <td>내야수</td>\n",
       "      <td>0.308</td>\n",
       "      <td>43</td>\n",
       "      <td>5</td>\n",
       "    </tr>\n",
       "    <tr>\n",
       "      <th>4</th>\n",
       "      <td>7</td>\n",
       "      <td>송광민</td>\n",
       "      <td>내야수</td>\n",
       "      <td>0.257</td>\n",
       "      <td>39</td>\n",
       "      <td>6</td>\n",
       "    </tr>\n",
       "    <tr>\n",
       "      <th>5</th>\n",
       "      <td>50</td>\n",
       "      <td>이성열</td>\n",
       "      <td>내야수</td>\n",
       "      <td>0.255</td>\n",
       "      <td>62</td>\n",
       "      <td>18</td>\n",
       "    </tr>\n",
       "    <tr>\n",
       "      <th>6</th>\n",
       "      <td>43</td>\n",
       "      <td>정은원</td>\n",
       "      <td>내야수</td>\n",
       "      <td>0.281</td>\n",
       "      <td>47</td>\n",
       "      <td>5</td>\n",
       "    </tr>\n",
       "    <tr>\n",
       "      <th>7</th>\n",
       "      <td>8</td>\n",
       "      <td>정근우</td>\n",
       "      <td>외야수</td>\n",
       "      <td>0.219</td>\n",
       "      <td>10</td>\n",
       "      <td>2</td>\n",
       "    </tr>\n",
       "    <tr>\n",
       "      <th>8</th>\n",
       "      <td>25</td>\n",
       "      <td>최진행</td>\n",
       "      <td>외야수</td>\n",
       "      <td>0.184</td>\n",
       "      <td>14</td>\n",
       "      <td>3</td>\n",
       "    </tr>\n",
       "  </tbody>\n",
       "</table>\n",
       "</div>"
      ],
      "text/plain": [
       "   등번호  선수명  포지션     타율  타점  홈런\n",
       "0   30   호잉  외야수  0.288  58  15\n",
       "1   28  양성우  외야수  0.176   6   1\n",
       "2   13  최재훈   포수  0.300  23   2\n",
       "3   52  김태균  내야수  0.308  43   5\n",
       "4    7  송광민  내야수  0.257  39   6\n",
       "5   50  이성열  내야수  0.255  62  18\n",
       "6   43  정은원  내야수  0.281  47   5\n",
       "7    8  정근우  외야수  0.219  10   2\n",
       "8   25  최진행  외야수  0.184  14   3"
      ]
     },
     "execution_count": 132,
     "metadata": {},
     "output_type": "execute_result"
    }
   ],
   "source": [
    "column_name = ['등번호', '선수명', '포지션', '타율', '타점', '홈런']\n",
    "eagles_df = pd.DataFrame(join, columns = column_name)\n",
    "eagles_df"
   ]
  },
  {
   "cell_type": "markdown",
   "metadata": {},
   "source": [
    "#### 연습문제"
   ]
  },
  {
   "cell_type": "code",
   "execution_count": 3,
   "metadata": {},
   "outputs": [
    {
     "data": {
      "text/plain": [
       "<sqlite3.Cursor at 0x8c1fd50>"
      ]
     },
     "execution_count": 3,
     "metadata": {},
     "output_type": "execute_result"
    }
   ],
   "source": [
    "cur = conn.cursor()\n",
    "cur.execute('CREATE TABLE IF NOT EXISTS Pitcher_Stats \\\n",
    "            (id INT NOT NULL, \\\n",
    "             name TEXT, \\\n",
    "             era REAL, \\\n",
    "             ip REAL, \\\n",
    "             so INT, \\\n",
    "             PRIMARY KEY(id));')"
   ]
  },
  {
   "cell_type": "code",
   "execution_count": 4,
   "metadata": {},
   "outputs": [
    {
     "data": {
      "text/html": [
       "<div>\n",
       "<style scoped>\n",
       "    .dataframe tbody tr th:only-of-type {\n",
       "        vertical-align: middle;\n",
       "    }\n",
       "\n",
       "    .dataframe tbody tr th {\n",
       "        vertical-align: top;\n",
       "    }\n",
       "\n",
       "    .dataframe thead th {\n",
       "        text-align: right;\n",
       "    }\n",
       "</style>\n",
       "<table border=\"1\" class=\"dataframe\">\n",
       "  <thead>\n",
       "    <tr style=\"text-align: right;\">\n",
       "      <th></th>\n",
       "      <th>선수명</th>\n",
       "      <th>ERA</th>\n",
       "      <th>IP</th>\n",
       "      <th>SO</th>\n",
       "    </tr>\n",
       "  </thead>\n",
       "  <tbody>\n",
       "    <tr>\n",
       "      <th>0</th>\n",
       "      <td>김이환</td>\n",
       "      <td>0.00</td>\n",
       "      <td>2.333333</td>\n",
       "      <td>1</td>\n",
       "    </tr>\n",
       "    <tr>\n",
       "      <th>1</th>\n",
       "      <td>김진욱</td>\n",
       "      <td>0.00</td>\n",
       "      <td>1.000000</td>\n",
       "      <td>0</td>\n",
       "    </tr>\n",
       "    <tr>\n",
       "      <th>2</th>\n",
       "      <td>송창현</td>\n",
       "      <td>0.00</td>\n",
       "      <td>1.000000</td>\n",
       "      <td>2</td>\n",
       "    </tr>\n",
       "    <tr>\n",
       "      <th>3</th>\n",
       "      <td>김경태</td>\n",
       "      <td>1.13</td>\n",
       "      <td>8.000000</td>\n",
       "      <td>7</td>\n",
       "    </tr>\n",
       "    <tr>\n",
       "      <th>4</th>\n",
       "      <td>정우람</td>\n",
       "      <td>1.88</td>\n",
       "      <td>38.333333</td>\n",
       "      <td>30</td>\n",
       "    </tr>\n",
       "    <tr>\n",
       "      <th>5</th>\n",
       "      <td>임준섭</td>\n",
       "      <td>2.92</td>\n",
       "      <td>24.666667</td>\n",
       "      <td>15</td>\n",
       "    </tr>\n",
       "    <tr>\n",
       "      <th>6</th>\n",
       "      <td>안영명</td>\n",
       "      <td>3.43</td>\n",
       "      <td>44.666667</td>\n",
       "      <td>35</td>\n",
       "    </tr>\n",
       "    <tr>\n",
       "      <th>7</th>\n",
       "      <td>김성훈</td>\n",
       "      <td>3.93</td>\n",
       "      <td>18.333333</td>\n",
       "      <td>20</td>\n",
       "    </tr>\n",
       "    <tr>\n",
       "      <th>8</th>\n",
       "      <td>박상원</td>\n",
       "      <td>4.09</td>\n",
       "      <td>44.000000</td>\n",
       "      <td>26</td>\n",
       "    </tr>\n",
       "    <tr>\n",
       "      <th>9</th>\n",
       "      <td>채드벨</td>\n",
       "      <td>4.15</td>\n",
       "      <td>123.666667</td>\n",
       "      <td>92</td>\n",
       "    </tr>\n",
       "    <tr>\n",
       "      <th>10</th>\n",
       "      <td>김종수</td>\n",
       "      <td>4.15</td>\n",
       "      <td>26.000000</td>\n",
       "      <td>21</td>\n",
       "    </tr>\n",
       "    <tr>\n",
       "      <th>11</th>\n",
       "      <td>서폴드</td>\n",
       "      <td>4.39</td>\n",
       "      <td>131.333333</td>\n",
       "      <td>94</td>\n",
       "    </tr>\n",
       "    <tr>\n",
       "      <th>12</th>\n",
       "      <td>장민재</td>\n",
       "      <td>4.81</td>\n",
       "      <td>91.666667</td>\n",
       "      <td>84</td>\n",
       "    </tr>\n",
       "    <tr>\n",
       "      <th>13</th>\n",
       "      <td>박윤철</td>\n",
       "      <td>4.86</td>\n",
       "      <td>16.666667</td>\n",
       "      <td>16</td>\n",
       "    </tr>\n",
       "    <tr>\n",
       "      <th>14</th>\n",
       "      <td>김범수</td>\n",
       "      <td>5.67</td>\n",
       "      <td>81.000000</td>\n",
       "      <td>65</td>\n",
       "    </tr>\n",
       "    <tr>\n",
       "      <th>15</th>\n",
       "      <td>이태양</td>\n",
       "      <td>6.52</td>\n",
       "      <td>48.333333</td>\n",
       "      <td>38</td>\n",
       "    </tr>\n",
       "    <tr>\n",
       "      <th>16</th>\n",
       "      <td>김민우</td>\n",
       "      <td>6.75</td>\n",
       "      <td>68.000000</td>\n",
       "      <td>46</td>\n",
       "    </tr>\n",
       "    <tr>\n",
       "      <th>17</th>\n",
       "      <td>박주홍</td>\n",
       "      <td>7.44</td>\n",
       "      <td>32.666667</td>\n",
       "      <td>25</td>\n",
       "    </tr>\n",
       "    <tr>\n",
       "      <th>18</th>\n",
       "      <td>신정락</td>\n",
       "      <td>9.78</td>\n",
       "      <td>19.333333</td>\n",
       "      <td>19</td>\n",
       "    </tr>\n",
       "    <tr>\n",
       "      <th>19</th>\n",
       "      <td>윤규진</td>\n",
       "      <td>10.38</td>\n",
       "      <td>4.333333</td>\n",
       "      <td>1</td>\n",
       "    </tr>\n",
       "    <tr>\n",
       "      <th>20</th>\n",
       "      <td>문동욱</td>\n",
       "      <td>12.06</td>\n",
       "      <td>15.666667</td>\n",
       "      <td>12</td>\n",
       "    </tr>\n",
       "    <tr>\n",
       "      <th>21</th>\n",
       "      <td>김재영</td>\n",
       "      <td>12.96</td>\n",
       "      <td>8.333333</td>\n",
       "      <td>4</td>\n",
       "    </tr>\n",
       "    <tr>\n",
       "      <th>22</th>\n",
       "      <td>서균</td>\n",
       "      <td>14.54</td>\n",
       "      <td>4.333333</td>\n",
       "      <td>3</td>\n",
       "    </tr>\n",
       "    <tr>\n",
       "      <th>23</th>\n",
       "      <td>황영국</td>\n",
       "      <td>27.00</td>\n",
       "      <td>1.000000</td>\n",
       "      <td>3</td>\n",
       "    </tr>\n",
       "    <tr>\n",
       "      <th>24</th>\n",
       "      <td>송창식</td>\n",
       "      <td>54.00</td>\n",
       "      <td>43468.000000</td>\n",
       "      <td>1</td>\n",
       "    </tr>\n",
       "    <tr>\n",
       "      <th>25</th>\n",
       "      <td>윤호솔</td>\n",
       "      <td>81.00</td>\n",
       "      <td>43468.000000</td>\n",
       "      <td>1</td>\n",
       "    </tr>\n",
       "  </tbody>\n",
       "</table>\n",
       "</div>"
      ],
      "text/plain": [
       "    선수명    ERA            IP  SO\n",
       "0   김이환   0.00      2.333333   1\n",
       "1   김진욱   0.00      1.000000   0\n",
       "2   송창현   0.00      1.000000   2\n",
       "3   김경태   1.13      8.000000   7\n",
       "4   정우람   1.88     38.333333  30\n",
       "5   임준섭   2.92     24.666667  15\n",
       "6   안영명   3.43     44.666667  35\n",
       "7   김성훈   3.93     18.333333  20\n",
       "8   박상원   4.09     44.000000  26\n",
       "9   채드벨   4.15    123.666667  92\n",
       "10  김종수   4.15     26.000000  21\n",
       "11  서폴드   4.39    131.333333  94\n",
       "12  장민재   4.81     91.666667  84\n",
       "13  박윤철   4.86     16.666667  16\n",
       "14  김범수   5.67     81.000000  65\n",
       "15  이태양   6.52     48.333333  38\n",
       "16  김민우   6.75     68.000000  46\n",
       "17  박주홍   7.44     32.666667  25\n",
       "18  신정락   9.78     19.333333  19\n",
       "19  윤규진  10.38      4.333333   1\n",
       "20  문동욱  12.06     15.666667  12\n",
       "21  김재영  12.96      8.333333   4\n",
       "22   서균  14.54      4.333333   3\n",
       "23  황영국  27.00      1.000000   3\n",
       "24  송창식  54.00  43468.000000   1\n",
       "25  윤호솔  81.00  43468.000000   1"
      ]
     },
     "execution_count": 4,
     "metadata": {},
     "output_type": "execute_result"
    }
   ],
   "source": [
    "pitcher_stats = pd.read_csv('pitcher_stats.csv', encoding='EUC_KR')\n",
    "pitcher_stats"
   ]
  },
  {
   "cell_type": "code",
   "execution_count": 9,
   "metadata": {},
   "outputs": [],
   "source": [
    "cur = conn.cursor()\n",
    "sql = \"INSERT INTO Pitcher_Stats VALUES (?, ?, ?, ?, ?);\"\n",
    "for i in range(1, 26):\n",
    "    cur.execute(sql, (i, *pitcher_stats.values[i-1]))\n",
    "conn.commit()"
   ]
  },
  {
   "cell_type": "code",
   "execution_count": 11,
   "metadata": {},
   "outputs": [
    {
     "data": {
      "text/plain": [
       "[(1, '김이환', 0.0, 2.333333333, 1),\n",
       " (2, '김진욱', 0.0, 1.0, 0),\n",
       " (3, '송창현', 0.0, 1.0, 2),\n",
       " (4, '김경태', 1.13, 8.0, 7),\n",
       " (5, '정우람', 1.88, 38.33333333, 30),\n",
       " (6, '임준섭', 2.92, 24.66666667, 15),\n",
       " (7, '안영명', 3.43, 44.66666667, 35),\n",
       " (8, '김성훈', 3.93, 18.33333333, 20),\n",
       " (9, '박상원', 4.09, 44.0, 26),\n",
       " (10, '채드벨', 4.15, 123.66666670000001, 92),\n",
       " (11, '김종수', 4.15, 26.0, 21),\n",
       " (12, '서폴드', 4.39, 131.3333333, 94),\n",
       " (13, '장민재', 4.81, 91.66666667, 84),\n",
       " (14, '박윤철', 4.86, 16.66666667, 16),\n",
       " (15, '김범수', 5.67, 81.0, 65),\n",
       " (16, '이태양', 6.52, 48.33333333, 38),\n",
       " (17, '김민우', 6.75, 68.0, 46),\n",
       " (18, '박주홍', 7.44, 32.66666667, 25),\n",
       " (19, '신정락', 9.78, 19.33333333, 19),\n",
       " (20, '윤규진', 10.38, 4.333333333, 1),\n",
       " (21, '문동욱', 12.06, 15.66666667, 12),\n",
       " (22, '김재영', 12.96, 8.333333332999999, 4),\n",
       " (23, '서균', 14.54, 4.333333333, 3),\n",
       " (24, '황영국', 27.0, 1.0, 3),\n",
       " (25, '송창식', 54.0, 43468.0, 1)]"
      ]
     },
     "execution_count": 11,
     "metadata": {},
     "output_type": "execute_result"
    }
   ],
   "source": [
    "cur = conn.cursor()\n",
    "cur.execute('SELECT * FROM Pitcher_Stats')\n",
    "cur.fetchall()"
   ]
  },
  {
   "cell_type": "code",
   "execution_count": 13,
   "metadata": {},
   "outputs": [
    {
     "data": {
      "text/plain": [
       "[(17, '김범수', '투수', 5.67, 81.0, 65),\n",
       " (38, '안영명', '투수', 3.43, 44.66666667, 35),\n",
       " (36, '장민재', '투수', 4.81, 91.66666667, 84)]"
      ]
     },
     "execution_count": 13,
     "metadata": {},
     "output_type": "execute_result"
    }
   ],
   "source": [
    "sql = \"SELECT e.back_no, e.name, e.position, \\\n",
    "              s.era, s.ip, s.so \\\n",
    "              FROM Eagles AS e JOIN Pitcher_Stats AS s \\\n",
    "              ON e.name LIKE s.name;\"\n",
    "cur = conn.cursor()\n",
    "cur.execute(sql)\n",
    "join = cur.fetchall()\n",
    "join"
   ]
  },
  {
   "cell_type": "code",
   "execution_count": 14,
   "metadata": {},
   "outputs": [
    {
     "data": {
      "text/html": [
       "<div>\n",
       "<style scoped>\n",
       "    .dataframe tbody tr th:only-of-type {\n",
       "        vertical-align: middle;\n",
       "    }\n",
       "\n",
       "    .dataframe tbody tr th {\n",
       "        vertical-align: top;\n",
       "    }\n",
       "\n",
       "    .dataframe thead th {\n",
       "        text-align: right;\n",
       "    }\n",
       "</style>\n",
       "<table border=\"1\" class=\"dataframe\">\n",
       "  <thead>\n",
       "    <tr style=\"text-align: right;\">\n",
       "      <th></th>\n",
       "      <th>등번호</th>\n",
       "      <th>선수명</th>\n",
       "      <th>포지션</th>\n",
       "      <th>방어율</th>\n",
       "      <th>투구인닝</th>\n",
       "      <th>탈삼진</th>\n",
       "    </tr>\n",
       "  </thead>\n",
       "  <tbody>\n",
       "    <tr>\n",
       "      <th>0</th>\n",
       "      <td>17</td>\n",
       "      <td>김범수</td>\n",
       "      <td>투수</td>\n",
       "      <td>5.67</td>\n",
       "      <td>81.000000</td>\n",
       "      <td>65</td>\n",
       "    </tr>\n",
       "    <tr>\n",
       "      <th>1</th>\n",
       "      <td>38</td>\n",
       "      <td>안영명</td>\n",
       "      <td>투수</td>\n",
       "      <td>3.43</td>\n",
       "      <td>44.666667</td>\n",
       "      <td>35</td>\n",
       "    </tr>\n",
       "    <tr>\n",
       "      <th>2</th>\n",
       "      <td>36</td>\n",
       "      <td>장민재</td>\n",
       "      <td>투수</td>\n",
       "      <td>4.81</td>\n",
       "      <td>91.666667</td>\n",
       "      <td>84</td>\n",
       "    </tr>\n",
       "  </tbody>\n",
       "</table>\n",
       "</div>"
      ],
      "text/plain": [
       "   등번호  선수명 포지션   방어율       투구인닝  탈삼진\n",
       "0   17  김범수  투수  5.67  81.000000   65\n",
       "1   38  안영명  투수  3.43  44.666667   35\n",
       "2   36  장민재  투수  4.81  91.666667   84"
      ]
     },
     "execution_count": 14,
     "metadata": {},
     "output_type": "execute_result"
    }
   ],
   "source": [
    "column_name = ['등번호', '선수명', '포지션', '방어율', '투구인닝', '탈삼진']\n",
    "pitcher_df = pd.DataFrame(join, columns = column_name)\n",
    "pitcher_df"
   ]
  },
  {
   "cell_type": "code",
   "execution_count": 133,
   "metadata": {},
   "outputs": [],
   "source": [
    "conn.close()"
   ]
  }
 ],
 "metadata": {
  "kernelspec": {
   "display_name": "Python 3",
   "language": "python",
   "name": "python3"
  },
  "language_info": {
   "codemirror_mode": {
    "name": "ipython",
    "version": 3
   },
   "file_extension": ".py",
   "mimetype": "text/x-python",
   "name": "python",
   "nbconvert_exporter": "python",
   "pygments_lexer": "ipython3",
   "version": "3.7.3"
  }
 },
 "nbformat": 4,
 "nbformat_minor": 2
}
